{
 "cells": [
  {
   "cell_type": "code",
   "execution_count": 132,
   "id": "98e827c0-2d16-4963-9672-2488581336f0",
   "metadata": {},
   "outputs": [],
   "source": [
    "import pandas as pd\n",
    "import numpy as np\n",
    "import matplotlib.pyplot as plt\n",
    "import seaborn as sns\n",
    "\n",
    "from sklearn.linear_model import LogisticRegression\n",
    "from sklearn import metrics\n",
    "\n",
    "from sklearn.metrics import confusion_matrix, classification_report, accuracy_score, precision_score, recall_score, f1_score, roc_curve, roc_auc_score, RocCurveDisplay, PrecisionRecallDisplay, precision_recall_curve\n",
    "from sklearn.model_selection import GridSearchCV\n",
    "from sklearn.ensemble import RandomForestClassifier\n",
    "from sklearn.svm import SVC, LinearSVC\n",
    "from sklearn.tree import DecisionTreeClassifier, export_graphviz\n",
    "from sklearn.neighbors import KNeighborsClassifier\n",
    "from sklearn.naive_bayes import GaussianNB\n",
    "import yellowbrick.regressor as yr\n",
    "from yellowbrick.classifier import ROCAUC"
   ]
  },
  {
   "cell_type": "code",
   "execution_count": 48,
   "id": "c0837eb4",
   "metadata": {},
   "outputs": [],
   "source": [
    "training_data = pd.read_csv(\"data/training_min_max_scaled.csv\")\n",
    "test_data = pd.read_csv(\"data/test_min_max_scaled.csv\")"
   ]
  },
  {
   "cell_type": "code",
   "execution_count": 49,
   "id": "44183141",
   "metadata": {},
   "outputs": [
    {
     "data": {
      "text/html": [
       "<div>\n",
       "<style scoped>\n",
       "    .dataframe tbody tr th:only-of-type {\n",
       "        vertical-align: middle;\n",
       "    }\n",
       "\n",
       "    .dataframe tbody tr th {\n",
       "        vertical-align: top;\n",
       "    }\n",
       "\n",
       "    .dataframe thead th {\n",
       "        text-align: right;\n",
       "    }\n",
       "</style>\n",
       "<table border=\"1\" class=\"dataframe\">\n",
       "  <thead>\n",
       "    <tr style=\"text-align: right;\">\n",
       "      <th></th>\n",
       "      <th>ID</th>\n",
       "      <th>Cycle</th>\n",
       "      <th>TTF</th>\n",
       "      <th>TTF_LABEL</th>\n",
       "      <th>S1</th>\n",
       "      <th>S2</th>\n",
       "      <th>S3</th>\n",
       "      <th>S4</th>\n",
       "    </tr>\n",
       "  </thead>\n",
       "  <tbody>\n",
       "    <tr>\n",
       "      <th>0</th>\n",
       "      <td>1</td>\n",
       "      <td>1</td>\n",
       "      <td>191</td>\n",
       "      <td>0</td>\n",
       "      <td>0.309757</td>\n",
       "      <td>0.726248</td>\n",
       "      <td>0.369048</td>\n",
       "      <td>0.633262</td>\n",
       "    </tr>\n",
       "    <tr>\n",
       "      <th>1</th>\n",
       "      <td>1</td>\n",
       "      <td>2</td>\n",
       "      <td>190</td>\n",
       "      <td>0</td>\n",
       "      <td>0.352633</td>\n",
       "      <td>0.628019</td>\n",
       "      <td>0.380952</td>\n",
       "      <td>0.765458</td>\n",
       "    </tr>\n",
       "    <tr>\n",
       "      <th>2</th>\n",
       "      <td>1</td>\n",
       "      <td>3</td>\n",
       "      <td>189</td>\n",
       "      <td>0</td>\n",
       "      <td>0.370527</td>\n",
       "      <td>0.710145</td>\n",
       "      <td>0.250000</td>\n",
       "      <td>0.795309</td>\n",
       "    </tr>\n",
       "    <tr>\n",
       "      <th>3</th>\n",
       "      <td>1</td>\n",
       "      <td>4</td>\n",
       "      <td>188</td>\n",
       "      <td>0</td>\n",
       "      <td>0.331195</td>\n",
       "      <td>0.740741</td>\n",
       "      <td>0.166667</td>\n",
       "      <td>0.889126</td>\n",
       "    </tr>\n",
       "    <tr>\n",
       "      <th>4</th>\n",
       "      <td>1</td>\n",
       "      <td>5</td>\n",
       "      <td>187</td>\n",
       "      <td>0</td>\n",
       "      <td>0.404625</td>\n",
       "      <td>0.668277</td>\n",
       "      <td>0.255952</td>\n",
       "      <td>0.746269</td>\n",
       "    </tr>\n",
       "  </tbody>\n",
       "</table>\n",
       "</div>"
      ],
      "text/plain": [
       "   ID  Cycle  TTF  TTF_LABEL        S1        S2        S3        S4\n",
       "0   1      1  191          0  0.309757  0.726248  0.369048  0.633262\n",
       "1   1      2  190          0  0.352633  0.628019  0.380952  0.765458\n",
       "2   1      3  189          0  0.370527  0.710145  0.250000  0.795309\n",
       "3   1      4  188          0  0.331195  0.740741  0.166667  0.889126\n",
       "4   1      5  187          0  0.404625  0.668277  0.255952  0.746269"
      ]
     },
     "execution_count": 49,
     "metadata": {},
     "output_type": "execute_result"
    }
   ],
   "source": [
    "training_data.head()"
   ]
  },
  {
   "cell_type": "code",
   "execution_count": 50,
   "id": "22cec7bd",
   "metadata": {},
   "outputs": [
    {
     "data": {
      "text/html": [
       "<div>\n",
       "<style scoped>\n",
       "    .dataframe tbody tr th:only-of-type {\n",
       "        vertical-align: middle;\n",
       "    }\n",
       "\n",
       "    .dataframe tbody tr th {\n",
       "        vertical-align: top;\n",
       "    }\n",
       "\n",
       "    .dataframe thead th {\n",
       "        text-align: right;\n",
       "    }\n",
       "</style>\n",
       "<table border=\"1\" class=\"dataframe\">\n",
       "  <thead>\n",
       "    <tr style=\"text-align: right;\">\n",
       "      <th></th>\n",
       "      <th>ID</th>\n",
       "      <th>Cycle</th>\n",
       "      <th>TTF</th>\n",
       "      <th>TTF_LABEL</th>\n",
       "      <th>S1</th>\n",
       "      <th>S2</th>\n",
       "      <th>S3</th>\n",
       "      <th>S4</th>\n",
       "    </tr>\n",
       "  </thead>\n",
       "  <tbody>\n",
       "    <tr>\n",
       "      <th>0</th>\n",
       "      <td>1</td>\n",
       "      <td>31</td>\n",
       "      <td>112</td>\n",
       "      <td>0</td>\n",
       "      <td>0.281229</td>\n",
       "      <td>0.735910</td>\n",
       "      <td>0.226190</td>\n",
       "      <td>0.660981</td>\n",
       "    </tr>\n",
       "    <tr>\n",
       "      <th>1</th>\n",
       "      <td>2</td>\n",
       "      <td>49</td>\n",
       "      <td>98</td>\n",
       "      <td>0</td>\n",
       "      <td>0.482444</td>\n",
       "      <td>0.590982</td>\n",
       "      <td>0.488095</td>\n",
       "      <td>0.650320</td>\n",
       "    </tr>\n",
       "    <tr>\n",
       "      <th>2</th>\n",
       "      <td>3</td>\n",
       "      <td>126</td>\n",
       "      <td>69</td>\n",
       "      <td>0</td>\n",
       "      <td>0.618501</td>\n",
       "      <td>0.441224</td>\n",
       "      <td>0.613095</td>\n",
       "      <td>0.456290</td>\n",
       "    </tr>\n",
       "    <tr>\n",
       "      <th>3</th>\n",
       "      <td>4</td>\n",
       "      <td>106</td>\n",
       "      <td>82</td>\n",
       "      <td>0</td>\n",
       "      <td>0.415766</td>\n",
       "      <td>0.449275</td>\n",
       "      <td>0.476190</td>\n",
       "      <td>0.680171</td>\n",
       "    </tr>\n",
       "    <tr>\n",
       "      <th>4</th>\n",
       "      <td>5</td>\n",
       "      <td>98</td>\n",
       "      <td>91</td>\n",
       "      <td>0</td>\n",
       "      <td>0.626435</td>\n",
       "      <td>0.553945</td>\n",
       "      <td>0.363095</td>\n",
       "      <td>0.492537</td>\n",
       "    </tr>\n",
       "  </tbody>\n",
       "</table>\n",
       "</div>"
      ],
      "text/plain": [
       "   ID  Cycle  TTF  TTF_LABEL        S1        S2        S3        S4\n",
       "0   1     31  112          0  0.281229  0.735910  0.226190  0.660981\n",
       "1   2     49   98          0  0.482444  0.590982  0.488095  0.650320\n",
       "2   3    126   69          0  0.618501  0.441224  0.613095  0.456290\n",
       "3   4    106   82          0  0.415766  0.449275  0.476190  0.680171\n",
       "4   5     98   91          0  0.626435  0.553945  0.363095  0.492537"
      ]
     },
     "execution_count": 50,
     "metadata": {},
     "output_type": "execute_result"
    }
   ],
   "source": [
    "test_data.head()"
   ]
  },
  {
   "cell_type": "code",
   "execution_count": 76,
   "id": "573fe6d9",
   "metadata": {},
   "outputs": [],
   "source": [
    "# Define features and target\n",
    "features = [\"S1\", \"S2\", \"S3\", \"S4\", \"Cycle\"]\n",
    "target = \"TTF_LABEL\""
   ]
  },
  {
   "cell_type": "code",
   "execution_count": 77,
   "id": "d86c68c6",
   "metadata": {},
   "outputs": [],
   "source": [
    "X_train = training_data[features]\n",
    "y_train = training_data[target]\n",
    "\n",
    "X_test = test_data[features]\n",
    "y_test = test_data[target]"
   ]
  },
  {
   "cell_type": "code",
   "execution_count": 7,
   "id": "36342543",
   "metadata": {},
   "outputs": [
    {
     "data": {
      "text/html": [
       "<div>\n",
       "<style scoped>\n",
       "    .dataframe tbody tr th:only-of-type {\n",
       "        vertical-align: middle;\n",
       "    }\n",
       "\n",
       "    .dataframe tbody tr th {\n",
       "        vertical-align: top;\n",
       "    }\n",
       "\n",
       "    .dataframe thead th {\n",
       "        text-align: right;\n",
       "    }\n",
       "</style>\n",
       "<table border=\"1\" class=\"dataframe\">\n",
       "  <thead>\n",
       "    <tr style=\"text-align: right;\">\n",
       "      <th></th>\n",
       "      <th>S1</th>\n",
       "      <th>S2</th>\n",
       "      <th>S3</th>\n",
       "      <th>S4</th>\n",
       "    </tr>\n",
       "  </thead>\n",
       "  <tbody>\n",
       "    <tr>\n",
       "      <th>0</th>\n",
       "      <td>1400.60</td>\n",
       "      <td>554.36</td>\n",
       "      <td>47.47</td>\n",
       "      <td>521.66</td>\n",
       "    </tr>\n",
       "    <tr>\n",
       "      <th>1</th>\n",
       "      <td>1403.14</td>\n",
       "      <td>553.75</td>\n",
       "      <td>47.49</td>\n",
       "      <td>522.28</td>\n",
       "    </tr>\n",
       "    <tr>\n",
       "      <th>2</th>\n",
       "      <td>1404.20</td>\n",
       "      <td>554.26</td>\n",
       "      <td>47.27</td>\n",
       "      <td>522.42</td>\n",
       "    </tr>\n",
       "    <tr>\n",
       "      <th>3</th>\n",
       "      <td>1401.87</td>\n",
       "      <td>554.45</td>\n",
       "      <td>47.13</td>\n",
       "      <td>522.86</td>\n",
       "    </tr>\n",
       "    <tr>\n",
       "      <th>4</th>\n",
       "      <td>1406.22</td>\n",
       "      <td>554.00</td>\n",
       "      <td>47.28</td>\n",
       "      <td>522.19</td>\n",
       "    </tr>\n",
       "  </tbody>\n",
       "</table>\n",
       "</div>"
      ],
      "text/plain": [
       "        S1      S2     S3      S4\n",
       "0  1400.60  554.36  47.47  521.66\n",
       "1  1403.14  553.75  47.49  522.28\n",
       "2  1404.20  554.26  47.27  522.42\n",
       "3  1401.87  554.45  47.13  522.86\n",
       "4  1406.22  554.00  47.28  522.19"
      ]
     },
     "execution_count": 7,
     "metadata": {},
     "output_type": "execute_result"
    }
   ],
   "source": [
    "X_train.head()\n"
   ]
  },
  {
   "cell_type": "code",
   "execution_count": 8,
   "id": "c09585ab",
   "metadata": {},
   "outputs": [
    {
     "data": {
      "text/plain": [
       "0    0\n",
       "1    0\n",
       "2    0\n",
       "3    0\n",
       "4    0\n",
       "Name: TTF_LABEL, dtype: int64"
      ]
     },
     "execution_count": 8,
     "metadata": {},
     "output_type": "execute_result"
    }
   ],
   "source": [
    "y_train.head()\n"
   ]
  },
  {
   "cell_type": "code",
   "execution_count": 61,
   "id": "b0d27496",
   "metadata": {},
   "outputs": [
    {
     "data": {
      "image/png": "[encoded data removed]",
      "text/plain": [
       "<Figure size 576x396 with 1 Axes>"
      ]
     },
     "metadata": {},
     "output_type": "display_data"
    },
    {
     "data": {
      "text/plain": [
       "<AxesSubplot:title={'center':\"Cook's Distance Outlier Detection\"}, xlabel='instance index', ylabel='influence (I)'>"
      ]
     },
     "execution_count": 61,
     "metadata": {},
     "output_type": "execute_result"
    }
   ],
   "source": [
    "visualizer = yr.CooksDistance()\n",
    "visualizer.fit(X_train, y_train)\n",
    "visualizer.show()"
   ]
  },
  {
   "cell_type": "code",
   "execution_count": 62,
   "id": "8e712bef",
   "metadata": {},
   "outputs": [],
   "source": [
    "i_less_influential = visualizer.distance_ <= visualizer.influence_threshold_\n",
    "X_pruned, y_pruned = X_train[i_less_influential], y_train[i_less_influential]"
   ]
  },
  {
   "cell_type": "markdown",
   "id": "da4e360b",
   "metadata": {},
   "source": [
    "## Helper Methods"
   ]
  },
  {
   "cell_type": "markdown",
   "id": "52370e07",
   "metadata": {},
   "source": [
    "### Hyperparameter Tuning"
   ]
  },
  {
   "cell_type": "code",
   "execution_count": 53,
   "id": "7198fe1d",
   "metadata": {},
   "outputs": [],
   "source": [
    "def tune_hyperparameters(\n",
    "    classifier, parameters_grid, X_train, y_train, cv=5, score=None\n",
    "):\n",
    "    \"\"\"Tune the hyperparameters of a regression model using Grid Search\n",
    "\n",
    "    Args:\n",
    "        regressor (str): The model name identifier\n",
    "        parameters_grid (dict): The hyperparameters grid\n",
    "        X_train (dataframe): The training features\n",
    "    \"\"\"\n",
    "    grid = GridSearchCV(classifier, parameters_grid, cv=cv, scoring=score)\n",
    "    grid.fit(X_train, y_train)\n",
    "    print(\n",
    "        f\"The best parameters are {grid.best_params_} with a score of {grid.best_score_}\"\n",
    "    )\n",
    "    return grid.best_estimator_"
   ]
  },
  {
   "cell_type": "markdown",
   "id": "bff6543b",
   "metadata": {},
   "source": [
    "### Generate prediction scores"
   ]
  },
  {
   "cell_type": "code",
   "execution_count": 54,
   "id": "c0dda981",
   "metadata": {},
   "outputs": [],
   "source": [
    "def generate_scores(classifer, X_train, y_train):\n",
    "    \"\"\"Generate the scores of the model\n",
    "\n",
    "    Args:\n",
    "        classifer (str): The model name identifier\n",
    "        X_train (dataframe): The training features\n",
    "        y_train (dataframe): The training target\n",
    "    \"\"\"\n",
    "    return classifer.predict_proba(X_train)[:, 1], classifer.predict_proba(X_test)[:, 1]"
   ]
  },
  {
   "cell_type": "markdown",
   "id": "b77ae59a",
   "metadata": {},
   "source": [
    "### Classification Metrics\n",
    "Metrics to be considered:\n",
    "- Accuracy\n",
    "- Precision\n",
    "- Recall\n",
    "- F1\n",
    "- ROC AUC"
   ]
  },
  {
   "cell_type": "code",
   "execution_count": 55,
   "id": "e304f781",
   "metadata": {},
   "outputs": [],
   "source": [
    "def calculate_classification_metrics(model_name, training_actual, training_predictions, training_scores, test_actual, test_predictions, test_scores):\n",
    "    \"\"\"Calculate the classification metrics\n",
    "\n",
    "    Args:\n",
    "        model_name (str): The model name identifier\n",
    "        training_actual (dataframe): The training actual values\n",
    "        training_predictions (dataframe): The training predicted values\n",
    "        test_actual (dataframe): The test actual values\n",
    "        test_predictions (dataframe): The test predicted values\n",
    "    \"\"\"\n",
    "    training_metrics = {\n",
    "        \"Accuracy\": accuracy_score(training_actual, training_predictions),\n",
    "        \"Precision\": precision_score(training_actual, training_predictions),\n",
    "        \"Recall\": recall_score(training_actual, training_predictions),\n",
    "        \"F1\": f1_score(training_actual, training_predictions),\n",
    "        \"ROC AUC\": roc_auc_score(training_actual, training_scores),\n",
    "    }\n",
    "\n",
    "    test_metrics = {\n",
    "        \"Accuracy\": accuracy_score(test_actual, test_predictions),\n",
    "        \"Precision\": precision_score(test_actual, test_predictions),\n",
    "        \"Recall\": recall_score(test_actual, test_predictions),\n",
    "        \"F1\": f1_score(test_actual, test_predictions),\n",
    "        \"ROC AUC\": roc_auc_score(test_actual, test_scores),\n",
    "    }\n",
    "\n",
    "    metrics = {\n",
    "        f\"{model_name} (Training)\": training_metrics,\n",
    "        f\"{model_name} (Test)\": test_metrics\n",
    "    }\n",
    "\n",
    "    return pd.DataFrame.from_dict(metrics)\n"
   ]
  },
  {
   "cell_type": "markdown",
   "id": "b07f0121",
   "metadata": {},
   "source": [
    "### Generate Classification Thresholds"
   ]
  },
  {
   "cell_type": "code",
   "execution_count": null,
   "id": "c68db8fb",
   "metadata": {},
   "outputs": [],
   "source": [
    "def generate_thresholds(y_test, y_scores):\n",
    "    \n",
    "    fpr, tpr, thresholds = precision_recall_curve(y_test, y_scores)\n",
    "    rocs = [(y_scores >= threshold).mean() for threshold in thresholds]\n",
    "    "
   ]
  },
  {
   "cell_type": "markdown",
   "id": "a7b23b7b",
   "metadata": {},
   "source": [
    "### Plot Confusion Matrix"
   ]
  },
  {
   "cell_type": "code",
   "execution_count": 56,
   "id": "c2052f1d",
   "metadata": {},
   "outputs": [],
   "source": [
    "def plot_confusion_matrix(\n",
    "    actual, predicted, cmap=\"Blues\"):\n",
    "    \"\"\"Plot the confusion matrix\n",
    "\n",
    "    Args:\n",
    "        actual (array): The actual values\n",
    "        predicted (array): The predicted values\n",
    "        cmap (str): The color map\n",
    "    \"\"\"\n",
    "    cm = confusion_matrix(actual, predicted)\n",
    "    group_labels = [\"True Positive\", \"False Positive\", \"False Negative\", \"True Negative\"]\n",
    "    counts = [\n",
    "        \"{0:0.0f}\".format(value) for value in cm.flatten()\n",
    "    ]\n",
    "    percentages = [\n",
    "        \"{0:.2%}\".format(value)\n",
    "        for value in cm.flatten() / np.sum(cm)\n",
    "    ]\n",
    "    labels = [\n",
    "        f\"{v1}\\n{v2}\\n{v3}\"\n",
    "        for v1, v2, v3 in zip(group_labels, counts, percentages)\n",
    "    ]\n",
    "    labels = np.asarray(labels).reshape(2, 2)\n",
    "    sns.heatmap(cm, annot=labels, fmt=\"\", cmap=cmap)"
   ]
  },
  {
   "cell_type": "markdown",
   "id": "efc8cf74",
   "metadata": {},
   "source": [
    "### Plot ROC Curve"
   ]
  },
  {
   "cell_type": "code",
   "execution_count": 57,
   "id": "c27b0fda",
   "metadata": {},
   "outputs": [],
   "source": [
    "def plot_roc(model_name, classifier, actual, predicted):\n",
    "    \"\"\"Plot the ROC curve\n",
    "\n",
    "    Args:\n",
    "        model_name (str): The model name identifier\n",
    "        classifier (str): The classifier \n",
    "        actual (array): The actual values\n",
    "        predicted (array): The predicted values\n",
    "    \"\"\"\n",
    "    fpr, tpr, threshold = roc_curve(actual, predicted)"
   ]
  },
  {
   "cell_type": "markdown",
   "id": "ad411f49",
   "metadata": {},
   "source": [
    "## Logistic Regression"
   ]
  },
  {
   "cell_type": "code",
   "execution_count": 146,
   "id": "51c2f4ca",
   "metadata": {},
   "outputs": [
    {
     "name": "stdout",
     "output_type": "stream",
     "text": [
      "The best parameters are {'C': 1.0} with a score of 0.9798043468427091\n"
     ]
    }
   ],
   "source": [
    "# Perform grid search on logistic regression\n",
    "c_space = [.01, 0.1, 1.0, 10]\n",
    "parameters_grid = { \"C\": c_space }\n",
    "tuned_logistic_classifier = tune_hyperparameters(LogisticRegression(), parameters_grid, X_train, y_train, score='roc_auc')"
   ]
  },
  {
   "cell_type": "code",
   "execution_count": 180,
   "id": "e1fb8ed9",
   "metadata": {},
   "outputs": [],
   "source": [
    "# Fit the classifier and predict on test data\n",
    "training_predictions = tuned_logistic_classifier.predict(X_train)\n",
    "test_predictions = tuned_logistic_classifier.predict(X_test)"
   ]
  },
  {
   "cell_type": "code",
   "execution_count": null,
   "id": "3b62bbf6",
   "metadata": {},
   "outputs": [],
   "source": []
  },
  {
   "cell_type": "code",
   "execution_count": 128,
   "id": "101cbc68",
   "metadata": {},
   "outputs": [
    {
     "data": {
      "image/png": "[encoded data removed]",
      "text/plain": [
       "<Figure size 576x396 with 2 Axes>"
      ]
     },
     "metadata": {},
     "output_type": "display_data"
    }
   ],
   "source": [
    "# Plot the confusion matrix\n",
    "plot_confusion_matrix(y_test, test_predictions)"
   ]
  },
  {
   "cell_type": "code",
   "execution_count": 46,
   "id": "c7b4f3c9",
   "metadata": {},
   "outputs": [
    {
     "data": {
      "image/png": "[encoded data removed]",
      "text/plain": [
       "<Figure size 576x396 with 2 Axes>"
      ]
     },
     "metadata": {},
     "output_type": "display_data"
    }
   ],
   "source": [
    "# Plot the confusion matrix\n",
    "visualizer = yc_classification_report(\n",
    "    LogisticRegression(), X_train, y_train, X_test, y_test, classes=[\"Non-failure\", \"Failure\"], support=True\n",
    ")"
   ]
  },
  {
   "cell_type": "code",
   "execution_count": 173,
   "id": "1faf9aeb",
   "metadata": {},
   "outputs": [
    {
     "data": {
      "text/html": [
       "<div>\n",
       "<style scoped>\n",
       "    .dataframe tbody tr th:only-of-type {\n",
       "        vertical-align: middle;\n",
       "    }\n",
       "\n",
       "    .dataframe tbody tr th {\n",
       "        vertical-align: top;\n",
       "    }\n",
       "\n",
       "    .dataframe thead th {\n",
       "        text-align: right;\n",
       "    }\n",
       "</style>\n",
       "<table border=\"1\" class=\"dataframe\">\n",
       "  <thead>\n",
       "    <tr style=\"text-align: right;\">\n",
       "      <th></th>\n",
       "      <th>Logistic Regression (Training)</th>\n",
       "      <th>Logistic Regression (Test)</th>\n",
       "    </tr>\n",
       "  </thead>\n",
       "  <tbody>\n",
       "    <tr>\n",
       "      <th>Accuracy</th>\n",
       "      <td>0.945858</td>\n",
       "      <td>0.900000</td>\n",
       "    </tr>\n",
       "    <tr>\n",
       "      <th>Precision</th>\n",
       "      <td>0.847529</td>\n",
       "      <td>0.894737</td>\n",
       "    </tr>\n",
       "    <tr>\n",
       "      <th>Recall</th>\n",
       "      <td>0.780000</td>\n",
       "      <td>0.680000</td>\n",
       "    </tr>\n",
       "    <tr>\n",
       "      <th>F1</th>\n",
       "      <td>0.812364</td>\n",
       "      <td>0.772727</td>\n",
       "    </tr>\n",
       "    <tr>\n",
       "      <th>ROC AUC</th>\n",
       "      <td>0.980041</td>\n",
       "      <td>0.959467</td>\n",
       "    </tr>\n",
       "  </tbody>\n",
       "</table>\n",
       "</div>"
      ],
      "text/plain": [
       "           Logistic Regression (Training)  Logistic Regression (Test)\n",
       "Accuracy                         0.945858                    0.900000\n",
       "Precision                        0.847529                    0.894737\n",
       "Recall                           0.780000                    0.680000\n",
       "F1                               0.812364                    0.772727\n",
       "ROC AUC                          0.980041                    0.959467"
      ]
     },
     "execution_count": 173,
     "metadata": {},
     "output_type": "execute_result"
    }
   ],
   "source": [
    "# Calculate the classification metrics\n",
    "prediction_probabilities_training, prediction_probabilities_test = generate_scores(tuned_logistic_classifier, X_train, y_train)\n",
    "logistic_regression_classification_metrics = calculate_classification_metrics('Logistic Regression', y_train, training_predictions, prediction_probabilities_training, y_test, test_predictions, prediction_probabilities_test)\n",
    "logistic_regression_classification_metrics"
   ]
  },
  {
   "cell_type": "code",
   "execution_count": 103,
   "id": "6694943f",
   "metadata": {},
   "outputs": [],
   "source": [
    "def bin_class_metrics(model, y_test, y_pred, y_score, print_out=True, plot_out=True):\n",
    "\n",
    "    \"\"\"Calculate main binary classifcation metrics, plot AUC ROC and Precision-Recall curves.\n",
    "\n",
    "    Args:\n",
    "        model (str): The model name identifier\n",
    "        y_test (series): Contains the test label values\n",
    "        y_pred (series): Contains the predicted values\n",
    "        y_score (series): Contains the predicted scores\n",
    "        print_out (bool): Print the classification metrics and thresholds values\n",
    "        plot_out (bool): Plot AUC ROC, Precision-Recall, and Threshold curves\n",
    "\n",
    "    Returns:\n",
    "        dataframe: The combined metrics in single dataframe\n",
    "        dataframe: ROC thresholds\n",
    "        dataframe: Precision-Recall thresholds\n",
    "        Plot: AUC ROC\n",
    "        plot: Precision-Recall\n",
    "        plot: Precision-Recall threshold; also show the number of engines predicted for maintenace per period (queue).\n",
    "        plot: TPR-FPR threshold\n",
    "\n",
    "    \"\"\"\n",
    "\n",
    "    binclass_metrics = {\n",
    "        \"Accuracy\": metrics.accuracy_score(y_test, y_pred),\n",
    "        \"Precision\": metrics.precision_score(y_test, y_pred),\n",
    "        \"Recall\": metrics.recall_score(y_test, y_pred),\n",
    "        \"F1 Score\": metrics.f1_score(y_test, y_pred),\n",
    "        \"ROC AUC\": metrics.roc_auc_score(y_test, y_score),\n",
    "    }\n",
    "\n",
    "    df_metrics = pd.DataFrame.from_dict(binclass_metrics, orient=\"index\")\n",
    "    df_metrics.columns = [model]\n",
    "\n",
    "    fpr, tpr, thresh_roc = metrics.roc_curve(y_test, y_score)\n",
    "\n",
    "    roc_auc = metrics.auc(fpr, tpr)\n",
    "\n",
    "    engines_roc = []\n",
    "    for thr in thresh_roc:\n",
    "        engines_roc.append((y_score >= thr).mean())\n",
    "\n",
    "    engines_roc = np.array(engines_roc)\n",
    "\n",
    "    roc_thresh = {\"Threshold\": thresh_roc, \"TPR\": tpr, \"FPR\": fpr, \"Que\": engines_roc}\n",
    "\n",
    "    df_roc_thresh = pd.DataFrame.from_dict(roc_thresh)\n",
    "\n",
    "    # calculate other classification metrics: TP, FP, TN, FN, TNR, FNR\n",
    "    # from ground truth file, positive class = 25 => TP + FN = 25\n",
    "    # from ground truth file, negative class = 75 => TN + FP = 75\n",
    "\n",
    "    df_roc_thresh[\"TP\"] = (25 * df_roc_thresh.TPR).astype(int)\n",
    "    df_roc_thresh[\"FP\"] = (25 - (25 * df_roc_thresh.TPR)).astype(int)\n",
    "    df_roc_thresh[\"TN\"] = (75 * (1 - df_roc_thresh.FPR)).astype(int)\n",
    "    df_roc_thresh[\"FN\"] = (75 - (75 * (1 - df_roc_thresh.FPR))).astype(int)\n",
    "\n",
    "    df_roc_thresh[\"TNR\"] = df_roc_thresh[\"TN\"] / (\n",
    "        df_roc_thresh[\"TN\"] + df_roc_thresh[\"FN\"]\n",
    "    )\n",
    "    df_roc_thresh[\"FNR\"] = df_roc_thresh[\"TN\"] / (\n",
    "        df_roc_thresh[\"TN\"] + df_roc_thresh[\"FP\"]\n",
    "    )\n",
    "\n",
    "    df_roc_thresh[\"Model\"] = model\n",
    "\n",
    "    precision, recall, thresh_prc = metrics.precision_recall_curve(y_test, y_score)\n",
    "\n",
    "    thresh_prc = np.append(thresh_prc, 1)\n",
    "\n",
    "    engines_prc = []\n",
    "    for thr in thresh_prc:\n",
    "        engines_prc.append((y_score >= thr).mean())\n",
    "\n",
    "    engines_prc = np.array(engines_prc)\n",
    "\n",
    "    prc_thresh = {\n",
    "        \"Threshold\": thresh_prc,\n",
    "        \"Precision\": precision,\n",
    "        \"Recall\": recall,\n",
    "        \"Que\": engines_prc,\n",
    "    }\n",
    "\n",
    "    df_prc_thresh = pd.DataFrame.from_dict(prc_thresh)\n",
    "\n",
    "    if print_out:\n",
    "        print(\"-----------------------------------------------------------\")\n",
    "        print(model, \"\\n\")\n",
    "        print(\"Confusion Matrix:\")\n",
    "        print(metrics.confusion_matrix(y_test, y_pred))\n",
    "        print(\"\\nClassification Report:\")\n",
    "        print(metrics.classification_report(y_test, y_pred))\n",
    "        print(\"\\nMetrics:\")\n",
    "        print(df_metrics)\n",
    "\n",
    "        print(\"\\nROC Thresholds:\\n\")\n",
    "        print(\n",
    "            df_roc_thresh[\n",
    "                [\"Threshold\", \"TP\", \"FP\", \"TN\", \"FN\", \"TPR\", \"FPR\", \"TNR\", \"FNR\", \"Que\"]\n",
    "            ]\n",
    "        )\n",
    "\n",
    "        print(\"\\nPrecision-Recall Thresholds:\\n\")\n",
    "        print(df_prc_thresh[[\"Threshold\", \"Precision\", \"Recall\", \"Que\"]])\n",
    "\n",
    "    if plot_out:\n",
    "        plt, ((ax1, plt), (ax3, ax4)) = plt.subplots(\n",
    "            nrows=2, ncols=2, sharex=False, sharey=False\n",
    "        )\n",
    "        plt.set_size_inches(10, 10)\n",
    "\n",
    "        ax1.plot(fpr, tpr, color=\"darkorange\", lw=2, label=\"AUC = %0.2f\" % roc_auc)\n",
    "        ax1.plot([0, 1], [0, 1], color=\"navy\", lw=2, linestyle=\"--\")\n",
    "        ax1.set_xlim([-0.05, 1.0])\n",
    "        ax1.set_ylim([0.0, 1.05])\n",
    "        ax1.set_xlabel(\"False Positive Rate\")\n",
    "        ax1.set_ylabel(\"True Positive Rate\")\n",
    "        ax1.legend(loc=\"lower right\", fontsize=\"small\")\n",
    "\n",
    "        plt.plot(recall, precision, color=\"blue\", lw=2, label=\"Precision-Recall curve\")\n",
    "        plt.set_xlim([0.0, 1.0])\n",
    "        plt.set_ylim([0.0, 1.05])\n",
    "        plt.set_xlabel(\"Recall\")\n",
    "        plt.set_ylabel(\"Precision\")\n",
    "        plt.legend(loc=\"lower left\", fontsize=\"small\")\n",
    "\n",
    "        ax3.plot(thresh_roc, fpr, color=\"red\", lw=2, label=\"FPR\")\n",
    "        ax3.plot(thresh_roc, tpr, color=\"green\", label=\"TPR\")\n",
    "        ax3.plot(thresh_roc, engines_roc, color=\"blue\", label=\"Engines\")\n",
    "        ax3.set_ylim([0.0, 1.05])\n",
    "        ax3.set_xlabel(\"Threshold\")\n",
    "        ax3.set_ylabel(\"%\")\n",
    "        ax3.legend(loc=\"upper right\", fontsize=\"small\")\n",
    "\n",
    "        ax4.plot(thresh_prc, precision, color=\"red\", lw=2, label=\"Precision\")\n",
    "        ax4.plot(thresh_prc, recall, color=\"green\", label=\"Recall\")\n",
    "        ax4.plot(thresh_prc, engines_prc, color=\"blue\", label=\"Engines\")\n",
    "        ax4.set_ylim([0.0, 1.05])\n",
    "        ax4.set_xlabel(\"Threshold\")\n",
    "        ax4.set_ylabel(\"%\")\n",
    "        ax4.legend(loc=\"lower left\", fontsize=\"small\")\n",
    "\n",
    "    return df_metrics, df_roc_thresh, df_prc_thresh\n"
   ]
  },
  {
   "cell_type": "code",
   "execution_count": 181,
   "id": "b485bc25",
   "metadata": {},
   "outputs": [
    {
     "name": "stdout",
     "output_type": "stream",
     "text": [
      "-----------------------------------------------------------\n",
      "Logistic Regression \n",
      "\n",
      "Confusion Matrix:\n",
      "[[73  2]\n",
      " [ 8 17]]\n",
      "\n",
      "Classification Report:\n",
      "              precision    recall  f1-score   support\n",
      "\n",
      "           0       0.90      0.97      0.94        75\n",
      "           1       0.89      0.68      0.77        25\n",
      "\n",
      "    accuracy                           0.90       100\n",
      "   macro avg       0.90      0.83      0.85       100\n",
      "weighted avg       0.90      0.90      0.90       100\n",
      "\n",
      "\n",
      "Metrics:\n",
      "           Logistic Regression\n",
      "Accuracy              0.900000\n",
      "Precision             0.894737\n",
      "Recall                0.680000\n",
      "F1 Score              0.772727\n",
      "ROC AUC               0.959467\n",
      "\n",
      "ROC Thresholds:\n",
      "\n",
      "    Threshold  TP  FP  TN  FN   TPR       FPR       TNR       FNR   Que\n",
      "0    1.989837   0  25  75   0  0.00  0.000000  1.000000  0.750000  0.00\n",
      "1    0.989837   1  24  75   0  0.04  0.000000  1.000000  0.757576  0.01\n",
      "2    0.753645  13  12  75   0  0.52  0.000000  1.000000  0.862069  0.13\n",
      "3    0.726748  13  12  74   1  0.52  0.013333  0.986667  0.860465  0.14\n",
      "4    0.724080  14  10  74   1  0.56  0.013333  0.986667  0.880952  0.15\n",
      "5    0.596880  14  10  73   2  0.56  0.026667  0.973333  0.879518  0.16\n",
      "6    0.505430  17   8  73   2  0.68  0.026667  0.973333  0.901235  0.19\n",
      "7    0.412699  17   8  71   4  0.68  0.053333  0.946667  0.898734  0.21\n",
      "8    0.273850  18   7  71   4  0.72  0.053333  0.946667  0.910256  0.22\n",
      "9    0.193136  18   7  70   5  0.72  0.066667  0.933333  0.909091  0.23\n",
      "10   0.183236  19   6  70   5  0.76  0.066667  0.933333  0.921053  0.24\n",
      "11   0.172891  19   6  68   7  0.76  0.093333  0.906667  0.918919  0.26\n",
      "12   0.117787  22   3  68   7  0.88  0.093333  0.906667  0.957746  0.29\n",
      "13   0.111752  22   3  66   9  0.88  0.120000  0.880000  0.956522  0.31\n",
      "14   0.107471  23   2  66   9  0.92  0.120000  0.880000  0.970588  0.32\n",
      "15   0.091403  23   2  65  10  0.92  0.133333  0.866667  0.970149  0.33\n",
      "16   0.086414  24   1  65  10  0.96  0.133333  0.866667  0.984848  0.34\n",
      "17   0.024706  24   1  55  19  0.96  0.266667  0.743243  0.982143  0.44\n",
      "18   0.023017  25   0  55  19  1.00  0.266667  0.743243  1.000000  0.45\n",
      "19   0.000008  25   0   0  75  1.00  1.000000  0.000000       NaN  1.00\n",
      "\n",
      "Precision-Recall Thresholds:\n",
      "\n",
      "    Threshold  Precision  Recall   Que\n",
      "0    0.023017   0.555556    1.00  0.45\n",
      "1    0.024706   0.545455    0.96  0.44\n",
      "2    0.025623   0.558140    0.96  0.43\n",
      "3    0.030912   0.571429    0.96  0.42\n",
      "4    0.030984   0.585366    0.96  0.41\n",
      "5    0.031552   0.600000    0.96  0.40\n",
      "6    0.032728   0.615385    0.96  0.39\n",
      "7    0.036741   0.631579    0.96  0.38\n",
      "8    0.057886   0.648649    0.96  0.37\n",
      "9    0.060587   0.666667    0.96  0.36\n",
      "10   0.079291   0.685714    0.96  0.35\n",
      "11   0.086414   0.705882    0.96  0.34\n",
      "12   0.091403   0.696970    0.92  0.33\n",
      "13   0.107471   0.718750    0.92  0.32\n",
      "14   0.111752   0.709677    0.88  0.31\n",
      "15   0.115273   0.733333    0.88  0.30\n",
      "16   0.117787   0.758621    0.88  0.29\n",
      "17   0.127884   0.750000    0.84  0.28\n",
      "18   0.172674   0.740741    0.80  0.27\n",
      "19   0.172891   0.730769    0.76  0.26\n",
      "20   0.178123   0.760000    0.76  0.25\n",
      "21   0.183236   0.791667    0.76  0.24\n",
      "22   0.193136   0.782609    0.72  0.23\n",
      "23   0.273850   0.818182    0.72  0.22\n",
      "24   0.412699   0.809524    0.68  0.21\n",
      "25   0.413150   0.850000    0.68  0.20\n",
      "26   0.505430   0.894737    0.68  0.19\n",
      "27   0.517609   0.888889    0.64  0.18\n",
      "28   0.537850   0.882353    0.60  0.17\n",
      "29   0.596880   0.875000    0.56  0.16\n",
      "30   0.724080   0.933333    0.56  0.15\n",
      "31   0.726748   0.928571    0.52  0.14\n",
      "32   0.753645   1.000000    0.52  0.13\n",
      "33   0.848613   1.000000    0.48  0.12\n",
      "34   0.859821   1.000000    0.44  0.11\n",
      "35   0.869162   1.000000    0.40  0.10\n",
      "36   0.880444   1.000000    0.36  0.09\n",
      "37   0.901822   1.000000    0.32  0.08\n",
      "38   0.905551   1.000000    0.28  0.07\n",
      "39   0.934883   1.000000    0.24  0.06\n",
      "40   0.947273   1.000000    0.20  0.05\n",
      "41   0.982299   1.000000    0.16  0.04\n",
      "42   0.983839   1.000000    0.12  0.03\n",
      "43   0.988757   1.000000    0.08  0.02\n",
      "44   0.989837   1.000000    0.04  0.01\n",
      "45   1.000000   1.000000    0.00  0.00\n"
     ]
    }
   ],
   "source": [
    "metrics_log, roc_lgrb, prc_lgrb = bin_class_metrics('Logistic Regression', y_test, test_predictions, prediction_probabilities_test, print_out=True, plot_out=False)"
   ]
  },
  {
   "cell_type": "code",
   "execution_count": 41,
   "id": "122e1939",
   "metadata": {},
   "outputs": [
    {
     "data": {
      "text/plain": [
       "<sklearn.metrics._plot.roc_curve.RocCurveDisplay at 0x1755beaf0>"
      ]
     },
     "execution_count": 41,
     "metadata": {},
     "output_type": "execute_result"
    },
    {
     "data": {
      "image/png": "[encoded data removed]",
      "text/plain": [
       "<Figure size 576x396 with 1 Axes>"
      ]
     },
     "metadata": {},
     "output_type": "display_data"
    }
   ],
   "source": [
    "RocCurveDisplay.from_estimator(tuned_logistic_classifier, X_test, y_test)"
   ]
  },
  {
   "cell_type": "code",
   "execution_count": 42,
   "id": "ae8d0bc9",
   "metadata": {},
   "outputs": [
    {
     "data": {
      "text/plain": [
       "<sklearn.metrics._plot.precision_recall_curve.PrecisionRecallDisplay at 0x157bece80>"
      ]
     },
     "execution_count": 42,
     "metadata": {},
     "output_type": "execute_result"
    },
    {
     "data": {
      "image/png": "[encoded data removed]",
      "text/plain": [
       "<Figure size 576x396 with 1 Axes>"
      ]
     },
     "metadata": {},
     "output_type": "display_data"
    }
   ],
   "source": [
    "PrecisionRecallDisplay.from_estimator(tuned_logistic_classifier, X_test, y_test)"
   ]
  },
  {
   "cell_type": "markdown",
   "id": "d17f37fe",
   "metadata": {},
   "source": [
    "## Decision Tree classification"
   ]
  },
  {
   "cell_type": "code",
   "execution_count": 76,
   "id": "07f4c3aa",
   "metadata": {},
   "outputs": [
    {
     "name": "stdout",
     "output_type": "stream",
     "text": [
      "The best parameters are {'criterion': 'entropy', 'max_depth': 4} with a score of 0.9735171572097878\n"
     ]
    }
   ],
   "source": [
    "# Perform grid search on decision tree\n",
    "max_depth_space = [2, 3, 4, 5, 6, 7, 8]\n",
    "criterion_space = [\"gini\", \"entropy\"]\n",
    "parameters_grid = { \"max_depth\": max_depth_space, \"criterion\": criterion_space }\n",
    "tuned_decision_tree_classifier = tune_hyperparameters(DecisionTreeClassifier(), parameters_grid, X_train, y_train, score='roc_auc')"
   ]
  },
  {
   "cell_type": "code",
   "execution_count": 80,
   "id": "a6dd4ad8",
   "metadata": {},
   "outputs": [],
   "source": [
    "# Make predictions on training and test data\n",
    "training_predictions = tuned_decision_tree_classifier.predict(X_train)\n",
    "test_predictions = tuned_decision_tree_classifier.predict(X_test)\n",
    "prediction_probabilities_training, prediction_probabilities_test = generate_scores(tuned_decision_tree_classifier, X_train, y_train)"
   ]
  },
  {
   "cell_type": "code",
   "execution_count": 81,
   "id": "2e1305d4",
   "metadata": {},
   "outputs": [
    {
     "data": {
      "image/png": "[encoded data removed]",
      "text/plain": [
       "<Figure size 432x288 with 2 Axes>"
      ]
     },
     "metadata": {
      "needs_background": "light"
     },
     "output_type": "display_data"
    }
   ],
   "source": [
    "# Plot the confusion matrix\n",
    "plot_confusion_matrix(y_test, test_predictions)"
   ]
  },
  {
   "cell_type": "code",
   "execution_count": 82,
   "id": "f4a28630",
   "metadata": {},
   "outputs": [
    {
     "data": {
      "text/html": [
       "<div>\n",
       "<style scoped>\n",
       "    .dataframe tbody tr th:only-of-type {\n",
       "        vertical-align: middle;\n",
       "    }\n",
       "\n",
       "    .dataframe tbody tr th {\n",
       "        vertical-align: top;\n",
       "    }\n",
       "\n",
       "    .dataframe thead th {\n",
       "        text-align: right;\n",
       "    }\n",
       "</style>\n",
       "<table border=\"1\" class=\"dataframe\">\n",
       "  <thead>\n",
       "    <tr style=\"text-align: right;\">\n",
       "      <th></th>\n",
       "      <th>Decision Tree (Training)</th>\n",
       "      <th>Decision Tree (Test)</th>\n",
       "    </tr>\n",
       "  </thead>\n",
       "  <tbody>\n",
       "    <tr>\n",
       "      <th>Accuracy</th>\n",
       "      <td>0.943677</td>\n",
       "      <td>0.890000</td>\n",
       "    </tr>\n",
       "    <tr>\n",
       "      <th>Precision</th>\n",
       "      <td>0.885748</td>\n",
       "      <td>0.888889</td>\n",
       "    </tr>\n",
       "    <tr>\n",
       "      <th>Recall</th>\n",
       "      <td>0.717742</td>\n",
       "      <td>0.640000</td>\n",
       "    </tr>\n",
       "    <tr>\n",
       "      <th>F1</th>\n",
       "      <td>0.792944</td>\n",
       "      <td>0.744186</td>\n",
       "    </tr>\n",
       "    <tr>\n",
       "      <th>ROC AUC</th>\n",
       "      <td>0.976331</td>\n",
       "      <td>0.945333</td>\n",
       "    </tr>\n",
       "  </tbody>\n",
       "</table>\n",
       "</div>"
      ],
      "text/plain": [
       "           Decision Tree (Training)  Decision Tree (Test)\n",
       "Accuracy                   0.943677              0.890000\n",
       "Precision                  0.885748              0.888889\n",
       "Recall                     0.717742              0.640000\n",
       "F1                         0.792944              0.744186\n",
       "ROC AUC                    0.976331              0.945333"
      ]
     },
     "execution_count": 82,
     "metadata": {},
     "output_type": "execute_result"
    }
   ],
   "source": [
    "# Calculate the classification metrics\n",
    "decision_tree_classification_metrics = calculate_classification_metrics('Decision Tree', y_train, training_predictions, prediction_probabilities_training, y_test, test_predictions, prediction_probabilities_test)\n",
    "decision_tree_classification_metrics"
   ]
  },
  {
   "cell_type": "code",
   "execution_count": 93,
   "id": "1c4c2797",
   "metadata": {},
   "outputs": [
    {
     "data": {
      "text/plain": [
       "<sklearn.metrics._plot.roc_curve.RocCurveDisplay at 0x1517fe490>"
      ]
     },
     "execution_count": 93,
     "metadata": {},
     "output_type": "execute_result"
    },
    {
     "data": {
      "image/png": "[encoded data removed]",
      "text/plain": [
       "<Figure size 432x288 with 1 Axes>"
      ]
     },
     "metadata": {
      "needs_background": "light"
     },
     "output_type": "display_data"
    }
   ],
   "source": [
    "# Plot the ROC curve\n",
    "RocCurveDisplay.from_estimator(tuned_decision_tree_classifier, X_test, y_test)"
   ]
  },
  {
   "cell_type": "code",
   "execution_count": 94,
   "id": "fc5d28e8",
   "metadata": {},
   "outputs": [
    {
     "data": {
      "text/plain": [
       "<sklearn.metrics._plot.precision_recall_curve.PrecisionRecallDisplay at 0x151761e20>"
      ]
     },
     "execution_count": 94,
     "metadata": {},
     "output_type": "execute_result"
    },
    {
     "data": {
      "image/png": "[encoded data removed]",
      "text/plain": [
       "<Figure size 432x288 with 1 Axes>"
      ]
     },
     "metadata": {
      "needs_background": "light"
     },
     "output_type": "display_data"
    }
   ],
   "source": [
    "# Plot precision-recall curve\n",
    "PrecisionRecallDisplay.from_estimator(tuned_decision_tree_classifier, X_test, y_test)"
   ]
  },
  {
   "cell_type": "markdown",
   "id": "054af234",
   "metadata": {},
   "source": [
    "## Random Forest classification"
   ]
  },
  {
   "cell_type": "code",
   "execution_count": 150,
   "id": "5d2f8e42",
   "metadata": {},
   "outputs": [
    {
     "name": "stdout",
     "output_type": "stream",
     "text": [
      "The best parameters are {'criterion': 'entropy', 'max_depth': 6} with a score of 0.9816678104591393\n"
     ]
    }
   ],
   "source": [
    "# Perform grid search on random forest\n",
    "max_depth_space = [2, 3, 4, 5, 6, 7, 8]\n",
    "criterion_space = [\"gini\", \"entropy\"]\n",
    "parameters_grid = { \"max_depth\": max_depth_space, \"criterion\": criterion_space }\n",
    "\n",
    "tuned_random_forest_classifier = tune_hyperparameters(RandomForestClassifier(random_state=42), parameters_grid, X_train, y_train, score='roc_auc')\n"
   ]
  },
  {
   "cell_type": "code",
   "execution_count": 182,
   "id": "5bd483b3",
   "metadata": {},
   "outputs": [],
   "source": [
    "# Make predictions on training and test data\n",
    "training_predictions = tuned_random_forest_classifier.predict(X_train)\n",
    "test_predictions = tuned_random_forest_classifier.predict(X_test)\n",
    "prediction_probabilities_training, prediction_probabilities_test = generate_scores(tuned_random_forest_classifier, X_train, y_train)"
   ]
  },
  {
   "cell_type": "code",
   "execution_count": 109,
   "id": "1e79553a",
   "metadata": {},
   "outputs": [
    {
     "data": {
      "image/png": "[encoded data removed]",
      "text/plain": [
       "<Figure size 576x396 with 2 Axes>"
      ]
     },
     "metadata": {},
     "output_type": "display_data"
    }
   ],
   "source": [
    "# Plot the confusion matrix\n",
    "plot_confusion_matrix(y_test, test_predictions)"
   ]
  },
  {
   "cell_type": "code",
   "execution_count": 153,
   "id": "6ac1072b",
   "metadata": {},
   "outputs": [
    {
     "data": {
      "text/html": [
       "<div>\n",
       "<style scoped>\n",
       "    .dataframe tbody tr th:only-of-type {\n",
       "        vertical-align: middle;\n",
       "    }\n",
       "\n",
       "    .dataframe tbody tr th {\n",
       "        vertical-align: top;\n",
       "    }\n",
       "\n",
       "    .dataframe thead th {\n",
       "        text-align: right;\n",
       "    }\n",
       "</style>\n",
       "<table border=\"1\" class=\"dataframe\">\n",
       "  <thead>\n",
       "    <tr style=\"text-align: right;\">\n",
       "      <th></th>\n",
       "      <th>Random Forest (Training)</th>\n",
       "      <th>Random Forest (Test)</th>\n",
       "    </tr>\n",
       "  </thead>\n",
       "  <tbody>\n",
       "    <tr>\n",
       "      <th>Accuracy</th>\n",
       "      <td>0.950705</td>\n",
       "      <td>0.890000</td>\n",
       "    </tr>\n",
       "    <tr>\n",
       "      <th>Precision</th>\n",
       "      <td>0.870509</td>\n",
       "      <td>0.850000</td>\n",
       "    </tr>\n",
       "    <tr>\n",
       "      <th>Recall</th>\n",
       "      <td>0.789355</td>\n",
       "      <td>0.680000</td>\n",
       "    </tr>\n",
       "    <tr>\n",
       "      <th>F1</th>\n",
       "      <td>0.827948</td>\n",
       "      <td>0.755556</td>\n",
       "    </tr>\n",
       "    <tr>\n",
       "      <th>ROC AUC</th>\n",
       "      <td>0.985398</td>\n",
       "      <td>0.963733</td>\n",
       "    </tr>\n",
       "  </tbody>\n",
       "</table>\n",
       "</div>"
      ],
      "text/plain": [
       "           Random Forest (Training)  Random Forest (Test)\n",
       "Accuracy                   0.950705              0.890000\n",
       "Precision                  0.870509              0.850000\n",
       "Recall                     0.789355              0.680000\n",
       "F1                         0.827948              0.755556\n",
       "ROC AUC                    0.985398              0.963733"
      ]
     },
     "execution_count": 153,
     "metadata": {},
     "output_type": "execute_result"
    }
   ],
   "source": [
    "# Calculate the classification metrics\n",
    "random_forest_classification_metrics = calculate_classification_metrics('Random Forest', y_train, training_predictions, prediction_probabilities_training, y_test, test_predictions, prediction_probabilities_test)\n",
    "random_forest_classification_metrics"
   ]
  },
  {
   "cell_type": "code",
   "execution_count": 186,
   "id": "aa4235de",
   "metadata": {},
   "outputs": [
    {
     "data": {
      "image/png": "[encoded data removed]",
      "text/plain": [
       "<Figure size 720x720 with 4 Axes>"
      ]
     },
     "metadata": {},
     "output_type": "display_data"
    }
   ],
   "source": [
    "metrics_rf, roc_rf, prc_rf = bin_class_metrics('Random Forest', y_test, test_predictions, prediction_probabilities_test, print_out=False, plot_out=True)"
   ]
  },
  {
   "cell_type": "code",
   "execution_count": 184,
   "id": "e6420505",
   "metadata": {},
   "outputs": [
    {
     "data": {
      "text/html": [
       "<div>\n",
       "<style scoped>\n",
       "    .dataframe tbody tr th:only-of-type {\n",
       "        vertical-align: middle;\n",
       "    }\n",
       "\n",
       "    .dataframe tbody tr th {\n",
       "        vertical-align: top;\n",
       "    }\n",
       "\n",
       "    .dataframe thead th {\n",
       "        text-align: right;\n",
       "    }\n",
       "</style>\n",
       "<table border=\"1\" class=\"dataframe\">\n",
       "  <thead>\n",
       "    <tr style=\"text-align: right;\">\n",
       "      <th></th>\n",
       "      <th>Threshold</th>\n",
       "      <th>Precision</th>\n",
       "      <th>Recall</th>\n",
       "      <th>Que</th>\n",
       "    </tr>\n",
       "  </thead>\n",
       "  <tbody>\n",
       "    <tr>\n",
       "      <th>0</th>\n",
       "      <td>0.033059</td>\n",
       "      <td>0.595238</td>\n",
       "      <td>1.00</td>\n",
       "      <td>0.42</td>\n",
       "    </tr>\n",
       "    <tr>\n",
       "      <th>1</th>\n",
       "      <td>0.034751</td>\n",
       "      <td>0.585366</td>\n",
       "      <td>0.96</td>\n",
       "      <td>0.41</td>\n",
       "    </tr>\n",
       "    <tr>\n",
       "      <th>2</th>\n",
       "      <td>0.044872</td>\n",
       "      <td>0.600000</td>\n",
       "      <td>0.96</td>\n",
       "      <td>0.40</td>\n",
       "    </tr>\n",
       "    <tr>\n",
       "      <th>3</th>\n",
       "      <td>0.046579</td>\n",
       "      <td>0.615385</td>\n",
       "      <td>0.96</td>\n",
       "      <td>0.39</td>\n",
       "    </tr>\n",
       "    <tr>\n",
       "      <th>4</th>\n",
       "      <td>0.046884</td>\n",
       "      <td>0.631579</td>\n",
       "      <td>0.96</td>\n",
       "      <td>0.38</td>\n",
       "    </tr>\n",
       "    <tr>\n",
       "      <th>5</th>\n",
       "      <td>0.047732</td>\n",
       "      <td>0.648649</td>\n",
       "      <td>0.96</td>\n",
       "      <td>0.37</td>\n",
       "    </tr>\n",
       "    <tr>\n",
       "      <th>6</th>\n",
       "      <td>0.061046</td>\n",
       "      <td>0.666667</td>\n",
       "      <td>0.96</td>\n",
       "      <td>0.36</td>\n",
       "    </tr>\n",
       "    <tr>\n",
       "      <th>7</th>\n",
       "      <td>0.088023</td>\n",
       "      <td>0.685714</td>\n",
       "      <td>0.96</td>\n",
       "      <td>0.35</td>\n",
       "    </tr>\n",
       "    <tr>\n",
       "      <th>8</th>\n",
       "      <td>0.090751</td>\n",
       "      <td>0.705882</td>\n",
       "      <td>0.96</td>\n",
       "      <td>0.34</td>\n",
       "    </tr>\n",
       "    <tr>\n",
       "      <th>9</th>\n",
       "      <td>0.095232</td>\n",
       "      <td>0.727273</td>\n",
       "      <td>0.96</td>\n",
       "      <td>0.33</td>\n",
       "    </tr>\n",
       "    <tr>\n",
       "      <th>10</th>\n",
       "      <td>0.130853</td>\n",
       "      <td>0.750000</td>\n",
       "      <td>0.96</td>\n",
       "      <td>0.32</td>\n",
       "    </tr>\n",
       "    <tr>\n",
       "      <th>11</th>\n",
       "      <td>0.134863</td>\n",
       "      <td>0.741935</td>\n",
       "      <td>0.92</td>\n",
       "      <td>0.31</td>\n",
       "    </tr>\n",
       "    <tr>\n",
       "      <th>12</th>\n",
       "      <td>0.141552</td>\n",
       "      <td>0.766667</td>\n",
       "      <td>0.92</td>\n",
       "      <td>0.30</td>\n",
       "    </tr>\n",
       "    <tr>\n",
       "      <th>13</th>\n",
       "      <td>0.144481</td>\n",
       "      <td>0.758621</td>\n",
       "      <td>0.88</td>\n",
       "      <td>0.29</td>\n",
       "    </tr>\n",
       "    <tr>\n",
       "      <th>14</th>\n",
       "      <td>0.162353</td>\n",
       "      <td>0.750000</td>\n",
       "      <td>0.84</td>\n",
       "      <td>0.28</td>\n",
       "    </tr>\n",
       "    <tr>\n",
       "      <th>15</th>\n",
       "      <td>0.182889</td>\n",
       "      <td>0.740741</td>\n",
       "      <td>0.80</td>\n",
       "      <td>0.27</td>\n",
       "    </tr>\n",
       "    <tr>\n",
       "      <th>16</th>\n",
       "      <td>0.205745</td>\n",
       "      <td>0.769231</td>\n",
       "      <td>0.80</td>\n",
       "      <td>0.26</td>\n",
       "    </tr>\n",
       "    <tr>\n",
       "      <th>17</th>\n",
       "      <td>0.233559</td>\n",
       "      <td>0.760000</td>\n",
       "      <td>0.76</td>\n",
       "      <td>0.25</td>\n",
       "    </tr>\n",
       "    <tr>\n",
       "      <th>18</th>\n",
       "      <td>0.310021</td>\n",
       "      <td>0.750000</td>\n",
       "      <td>0.72</td>\n",
       "      <td>0.24</td>\n",
       "    </tr>\n",
       "    <tr>\n",
       "      <th>19</th>\n",
       "      <td>0.314071</td>\n",
       "      <td>0.782609</td>\n",
       "      <td>0.72</td>\n",
       "      <td>0.23</td>\n",
       "    </tr>\n",
       "    <tr>\n",
       "      <th>20</th>\n",
       "      <td>0.319342</td>\n",
       "      <td>0.818182</td>\n",
       "      <td>0.72</td>\n",
       "      <td>0.22</td>\n",
       "    </tr>\n",
       "    <tr>\n",
       "      <th>21</th>\n",
       "      <td>0.429754</td>\n",
       "      <td>0.809524</td>\n",
       "      <td>0.68</td>\n",
       "      <td>0.21</td>\n",
       "    </tr>\n",
       "    <tr>\n",
       "      <th>22</th>\n",
       "      <td>0.528086</td>\n",
       "      <td>0.850000</td>\n",
       "      <td>0.68</td>\n",
       "      <td>0.20</td>\n",
       "    </tr>\n",
       "    <tr>\n",
       "      <th>23</th>\n",
       "      <td>0.549517</td>\n",
       "      <td>0.894737</td>\n",
       "      <td>0.68</td>\n",
       "      <td>0.19</td>\n",
       "    </tr>\n",
       "    <tr>\n",
       "      <th>24</th>\n",
       "      <td>0.556192</td>\n",
       "      <td>0.888889</td>\n",
       "      <td>0.64</td>\n",
       "      <td>0.18</td>\n",
       "    </tr>\n",
       "    <tr>\n",
       "      <th>25</th>\n",
       "      <td>0.563041</td>\n",
       "      <td>0.882353</td>\n",
       "      <td>0.60</td>\n",
       "      <td>0.17</td>\n",
       "    </tr>\n",
       "    <tr>\n",
       "      <th>26</th>\n",
       "      <td>0.575838</td>\n",
       "      <td>0.875000</td>\n",
       "      <td>0.56</td>\n",
       "      <td>0.16</td>\n",
       "    </tr>\n",
       "    <tr>\n",
       "      <th>27</th>\n",
       "      <td>0.672622</td>\n",
       "      <td>0.933333</td>\n",
       "      <td>0.56</td>\n",
       "      <td>0.15</td>\n",
       "    </tr>\n",
       "    <tr>\n",
       "      <th>28</th>\n",
       "      <td>0.680290</td>\n",
       "      <td>1.000000</td>\n",
       "      <td>0.56</td>\n",
       "      <td>0.14</td>\n",
       "    </tr>\n",
       "    <tr>\n",
       "      <th>29</th>\n",
       "      <td>0.690790</td>\n",
       "      <td>1.000000</td>\n",
       "      <td>0.52</td>\n",
       "      <td>0.13</td>\n",
       "    </tr>\n",
       "    <tr>\n",
       "      <th>30</th>\n",
       "      <td>0.740852</td>\n",
       "      <td>1.000000</td>\n",
       "      <td>0.48</td>\n",
       "      <td>0.12</td>\n",
       "    </tr>\n",
       "    <tr>\n",
       "      <th>31</th>\n",
       "      <td>0.771940</td>\n",
       "      <td>1.000000</td>\n",
       "      <td>0.44</td>\n",
       "      <td>0.11</td>\n",
       "    </tr>\n",
       "    <tr>\n",
       "      <th>32</th>\n",
       "      <td>0.823466</td>\n",
       "      <td>1.000000</td>\n",
       "      <td>0.40</td>\n",
       "      <td>0.10</td>\n",
       "    </tr>\n",
       "    <tr>\n",
       "      <th>33</th>\n",
       "      <td>0.834813</td>\n",
       "      <td>1.000000</td>\n",
       "      <td>0.36</td>\n",
       "      <td>0.09</td>\n",
       "    </tr>\n",
       "    <tr>\n",
       "      <th>34</th>\n",
       "      <td>0.919371</td>\n",
       "      <td>1.000000</td>\n",
       "      <td>0.32</td>\n",
       "      <td>0.08</td>\n",
       "    </tr>\n",
       "    <tr>\n",
       "      <th>35</th>\n",
       "      <td>0.926479</td>\n",
       "      <td>1.000000</td>\n",
       "      <td>0.28</td>\n",
       "      <td>0.07</td>\n",
       "    </tr>\n",
       "    <tr>\n",
       "      <th>36</th>\n",
       "      <td>0.929662</td>\n",
       "      <td>1.000000</td>\n",
       "      <td>0.24</td>\n",
       "      <td>0.06</td>\n",
       "    </tr>\n",
       "    <tr>\n",
       "      <th>37</th>\n",
       "      <td>0.954830</td>\n",
       "      <td>1.000000</td>\n",
       "      <td>0.20</td>\n",
       "      <td>0.05</td>\n",
       "    </tr>\n",
       "    <tr>\n",
       "      <th>38</th>\n",
       "      <td>0.987619</td>\n",
       "      <td>1.000000</td>\n",
       "      <td>0.16</td>\n",
       "      <td>0.04</td>\n",
       "    </tr>\n",
       "    <tr>\n",
       "      <th>39</th>\n",
       "      <td>0.994652</td>\n",
       "      <td>1.000000</td>\n",
       "      <td>0.12</td>\n",
       "      <td>0.03</td>\n",
       "    </tr>\n",
       "    <tr>\n",
       "      <th>40</th>\n",
       "      <td>0.997459</td>\n",
       "      <td>1.000000</td>\n",
       "      <td>0.08</td>\n",
       "      <td>0.02</td>\n",
       "    </tr>\n",
       "    <tr>\n",
       "      <th>41</th>\n",
       "      <td>0.997985</td>\n",
       "      <td>1.000000</td>\n",
       "      <td>0.04</td>\n",
       "      <td>0.01</td>\n",
       "    </tr>\n",
       "    <tr>\n",
       "      <th>42</th>\n",
       "      <td>1.000000</td>\n",
       "      <td>1.000000</td>\n",
       "      <td>0.00</td>\n",
       "      <td>0.00</td>\n",
       "    </tr>\n",
       "  </tbody>\n",
       "</table>\n",
       "</div>"
      ],
      "text/plain": [
       "    Threshold  Precision  Recall   Que\n",
       "0    0.033059   0.595238    1.00  0.42\n",
       "1    0.034751   0.585366    0.96  0.41\n",
       "2    0.044872   0.600000    0.96  0.40\n",
       "3    0.046579   0.615385    0.96  0.39\n",
       "4    0.046884   0.631579    0.96  0.38\n",
       "5    0.047732   0.648649    0.96  0.37\n",
       "6    0.061046   0.666667    0.96  0.36\n",
       "7    0.088023   0.685714    0.96  0.35\n",
       "8    0.090751   0.705882    0.96  0.34\n",
       "9    0.095232   0.727273    0.96  0.33\n",
       "10   0.130853   0.750000    0.96  0.32\n",
       "11   0.134863   0.741935    0.92  0.31\n",
       "12   0.141552   0.766667    0.92  0.30\n",
       "13   0.144481   0.758621    0.88  0.29\n",
       "14   0.162353   0.750000    0.84  0.28\n",
       "15   0.182889   0.740741    0.80  0.27\n",
       "16   0.205745   0.769231    0.80  0.26\n",
       "17   0.233559   0.760000    0.76  0.25\n",
       "18   0.310021   0.750000    0.72  0.24\n",
       "19   0.314071   0.782609    0.72  0.23\n",
       "20   0.319342   0.818182    0.72  0.22\n",
       "21   0.429754   0.809524    0.68  0.21\n",
       "22   0.528086   0.850000    0.68  0.20\n",
       "23   0.549517   0.894737    0.68  0.19\n",
       "24   0.556192   0.888889    0.64  0.18\n",
       "25   0.563041   0.882353    0.60  0.17\n",
       "26   0.575838   0.875000    0.56  0.16\n",
       "27   0.672622   0.933333    0.56  0.15\n",
       "28   0.680290   1.000000    0.56  0.14\n",
       "29   0.690790   1.000000    0.52  0.13\n",
       "30   0.740852   1.000000    0.48  0.12\n",
       "31   0.771940   1.000000    0.44  0.11\n",
       "32   0.823466   1.000000    0.40  0.10\n",
       "33   0.834813   1.000000    0.36  0.09\n",
       "34   0.919371   1.000000    0.32  0.08\n",
       "35   0.926479   1.000000    0.28  0.07\n",
       "36   0.929662   1.000000    0.24  0.06\n",
       "37   0.954830   1.000000    0.20  0.05\n",
       "38   0.987619   1.000000    0.16  0.04\n",
       "39   0.994652   1.000000    0.12  0.03\n",
       "40   0.997459   1.000000    0.08  0.02\n",
       "41   0.997985   1.000000    0.04  0.01\n",
       "42   1.000000   1.000000    0.00  0.00"
      ]
     },
     "execution_count": 184,
     "metadata": {},
     "output_type": "execute_result"
    }
   ],
   "source": [
    "prc_rf"
   ]
  },
  {
   "cell_type": "code",
   "execution_count": 110,
   "id": "127beebe",
   "metadata": {},
   "outputs": [
    {
     "data": {
      "text/plain": [
       "<sklearn.metrics._plot.roc_curve.RocCurveDisplay at 0x151d65e50>"
      ]
     },
     "execution_count": 110,
     "metadata": {},
     "output_type": "execute_result"
    },
    {
     "data": {
      "image/png": "[encoded data removed]",
      "text/plain": [
       "<Figure size 432x288 with 1 Axes>"
      ]
     },
     "metadata": {
      "needs_background": "light"
     },
     "output_type": "display_data"
    }
   ],
   "source": [
    "# Plot the ROC curve\n",
    "RocCurveDisplay.from_estimator(tuned_random_forest_classifier, X_test, y_test)"
   ]
  },
  {
   "cell_type": "code",
   "execution_count": 111,
   "id": "ce0b66e5",
   "metadata": {},
   "outputs": [
    {
     "data": {
      "text/plain": [
       "<sklearn.metrics._plot.precision_recall_curve.PrecisionRecallDisplay at 0x151dc7430>"
      ]
     },
     "execution_count": 111,
     "metadata": {},
     "output_type": "execute_result"
    },
    {
     "data": {
      "image/png": "[encoded data removed]",
      "text/plain": [
       "<Figure size 432x288 with 1 Axes>"
      ]
     },
     "metadata": {
      "needs_background": "light"
     },
     "output_type": "display_data"
    }
   ],
   "source": [
    "# Plot precision-recall curve\n",
    "PrecisionRecallDisplay.from_estimator(tuned_random_forest_classifier, X_test, y_test)"
   ]
  },
  {
   "cell_type": "markdown",
   "id": "a18cb228",
   "metadata": {},
   "source": [
    "## K-Nearest Neighbors"
   ]
  },
  {
   "cell_type": "code",
   "execution_count": 116,
   "id": "6c86116a",
   "metadata": {},
   "outputs": [
    {
     "name": "stdout",
     "output_type": "stream",
     "text": [
      "The best parameters are {'n_neighbors': 14} with a score of 0.9620683849374811\n"
     ]
    }
   ],
   "source": [
    "# Perform grid search on KNN\n",
    "n_neighbors_space = [6, 7, 8, 9, 10, 11, 12, 13, 14]\n",
    "parameters_grid = { \"n_neighbors\": n_neighbors_space }\n",
    "tuned_knn_classifier = tune_hyperparameters(KNeighborsClassifier(), parameters_grid, X_train, y_train, score='roc_auc')"
   ]
  },
  {
   "cell_type": "code",
   "execution_count": 117,
   "id": "3e5b194d",
   "metadata": {},
   "outputs": [],
   "source": [
    "# Make predictions on training and test data\n",
    "training_predictions = tuned_knn_classifier.predict(X_train)\n",
    "test_predictions = tuned_knn_classifier.predict(X_test)\n",
    "prediction_probabilities_training, prediction_probabilities_test = generate_scores(tuned_knn_classifier, X_train, y_train)"
   ]
  },
  {
   "cell_type": "code",
   "execution_count": 118,
   "id": "9f7ec6d7",
   "metadata": {},
   "outputs": [
    {
     "data": {
      "image/png": "[encoded data removed]",
      "text/plain": [
       "<Figure size 432x288 with 2 Axes>"
      ]
     },
     "metadata": {
      "needs_background": "light"
     },
     "output_type": "display_data"
    }
   ],
   "source": [
    "# Plot the confusion matrix\n",
    "plot_confusion_matrix(y_test, test_predictions)"
   ]
  },
  {
   "cell_type": "code",
   "execution_count": 119,
   "id": "a2a00976",
   "metadata": {},
   "outputs": [
    {
     "data": {
      "text/html": [
       "<div>\n",
       "<style scoped>\n",
       "    .dataframe tbody tr th:only-of-type {\n",
       "        vertical-align: middle;\n",
       "    }\n",
       "\n",
       "    .dataframe tbody tr th {\n",
       "        vertical-align: top;\n",
       "    }\n",
       "\n",
       "    .dataframe thead th {\n",
       "        text-align: right;\n",
       "    }\n",
       "</style>\n",
       "<table border=\"1\" class=\"dataframe\">\n",
       "  <thead>\n",
       "    <tr style=\"text-align: right;\">\n",
       "      <th></th>\n",
       "      <th>KNN (Training)</th>\n",
       "      <th>KNN (Test)</th>\n",
       "    </tr>\n",
       "  </thead>\n",
       "  <tbody>\n",
       "    <tr>\n",
       "      <th>Accuracy</th>\n",
       "      <td>0.946925</td>\n",
       "      <td>0.890000</td>\n",
       "    </tr>\n",
       "    <tr>\n",
       "      <th>Precision</th>\n",
       "      <td>0.868431</td>\n",
       "      <td>0.937500</td>\n",
       "    </tr>\n",
       "    <tr>\n",
       "      <th>Recall</th>\n",
       "      <td>0.762258</td>\n",
       "      <td>0.600000</td>\n",
       "    </tr>\n",
       "    <tr>\n",
       "      <th>F1</th>\n",
       "      <td>0.811888</td>\n",
       "      <td>0.731707</td>\n",
       "    </tr>\n",
       "    <tr>\n",
       "      <th>ROC AUC</th>\n",
       "      <td>0.982859</td>\n",
       "      <td>0.928267</td>\n",
       "    </tr>\n",
       "  </tbody>\n",
       "</table>\n",
       "</div>"
      ],
      "text/plain": [
       "           KNN (Training)  KNN (Test)\n",
       "Accuracy         0.946925    0.890000\n",
       "Precision        0.868431    0.937500\n",
       "Recall           0.762258    0.600000\n",
       "F1               0.811888    0.731707\n",
       "ROC AUC          0.982859    0.928267"
      ]
     },
     "execution_count": 119,
     "metadata": {},
     "output_type": "execute_result"
    }
   ],
   "source": [
    "# Calculate the classification metrics\n",
    "knn_classification_metrics = calculate_classification_metrics('KNN', y_train, training_predictions, prediction_probabilities_training, y_test, test_predictions, prediction_probabilities_test)\n",
    "knn_classification_metrics"
   ]
  },
  {
   "cell_type": "code",
   "execution_count": 120,
   "id": "f7bb7ec8",
   "metadata": {},
   "outputs": [
    {
     "data": {
      "text/plain": [
       "<sklearn.metrics._plot.roc_curve.RocCurveDisplay at 0x151df40d0>"
      ]
     },
     "execution_count": 120,
     "metadata": {},
     "output_type": "execute_result"
    },
    {
     "data": {
      "image/png": "[encoded data removed]",
      "text/plain": [
       "<Figure size 432x288 with 1 Axes>"
      ]
     },
     "metadata": {
      "needs_background": "light"
     },
     "output_type": "display_data"
    }
   ],
   "source": [
    "# Plot the ROC curve\n",
    "RocCurveDisplay.from_estimator(tuned_knn_classifier, X_test, y_test)"
   ]
  },
  {
   "cell_type": "code",
   "execution_count": 121,
   "id": "24ee2277",
   "metadata": {},
   "outputs": [
    {
     "data": {
      "text/plain": [
       "<sklearn.metrics._plot.precision_recall_curve.PrecisionRecallDisplay at 0x151adcee0>"
      ]
     },
     "execution_count": 121,
     "metadata": {},
     "output_type": "execute_result"
    },
    {
     "data": {
      "image/png": "[encoded data removed]",
      "text/plain": [
       "<Figure size 432x288 with 1 Axes>"
      ]
     },
     "metadata": {
      "needs_background": "light"
     },
     "output_type": "display_data"
    }
   ],
   "source": [
    "# Plot precision-recall curve\n",
    "PrecisionRecallDisplay.from_estimator(tuned_knn_classifier, X_test, y_test)"
   ]
  },
  {
   "cell_type": "markdown",
   "id": "7141b5b9",
   "metadata": {},
   "source": [
    "## Support Vector Machine classification"
   ]
  },
  {
   "cell_type": "code",
   "execution_count": 124,
   "id": "d97c7224",
   "metadata": {},
   "outputs": [
    {
     "name": "stdout",
     "output_type": "stream",
     "text": [
      "The best parameters are {'C': 100} with a score of 0.9674415327955659\n"
     ]
    }
   ],
   "source": [
    "# Perform grid search on SVM\n",
    "c_space = [.001, .01 ,.1 , 1, 10, 20, 100]\n",
    "parameters_grid = { 'C' : c_space }\n",
    "tuned_svm = tune_hyperparameters(SVC(), parameters_grid, X_train, y_train, score='roc_auc')"
   ]
  },
  {
   "cell_type": "code",
   "execution_count": null,
   "id": "1370a324",
   "metadata": {},
   "outputs": [],
   "source": [
    "# Make predictions on training and test data\n",
    "training_predictions = tuned_svm.predict(X_train)\n",
    "test_predictions = tuned_svm.predict(X_test)\n",
    "prediction_probabilities_training, prediction_probabilities_test = generate_scores(tuned_svm, X_train, y_train)"
   ]
  },
  {
   "cell_type": "code",
   "execution_count": 125,
   "id": "db3cabce",
   "metadata": {},
   "outputs": [
    {
     "data": {
      "text/html": [
       "<div>\n",
       "<style scoped>\n",
       "    .dataframe tbody tr th:only-of-type {\n",
       "        vertical-align: middle;\n",
       "    }\n",
       "\n",
       "    .dataframe tbody tr th {\n",
       "        vertical-align: top;\n",
       "    }\n",
       "\n",
       "    .dataframe thead th {\n",
       "        text-align: right;\n",
       "    }\n",
       "</style>\n",
       "<table border=\"1\" class=\"dataframe\">\n",
       "  <thead>\n",
       "    <tr style=\"text-align: right;\">\n",
       "      <th></th>\n",
       "      <th>SVM (Training)</th>\n",
       "      <th>SVM (Test)</th>\n",
       "    </tr>\n",
       "  </thead>\n",
       "  <tbody>\n",
       "    <tr>\n",
       "      <th>Accuracy</th>\n",
       "      <td>0.946925</td>\n",
       "      <td>0.890000</td>\n",
       "    </tr>\n",
       "    <tr>\n",
       "      <th>Precision</th>\n",
       "      <td>0.868431</td>\n",
       "      <td>0.937500</td>\n",
       "    </tr>\n",
       "    <tr>\n",
       "      <th>Recall</th>\n",
       "      <td>0.762258</td>\n",
       "      <td>0.600000</td>\n",
       "    </tr>\n",
       "    <tr>\n",
       "      <th>F1</th>\n",
       "      <td>0.811888</td>\n",
       "      <td>0.731707</td>\n",
       "    </tr>\n",
       "    <tr>\n",
       "      <th>ROC AUC</th>\n",
       "      <td>0.982859</td>\n",
       "      <td>0.928267</td>\n",
       "    </tr>\n",
       "  </tbody>\n",
       "</table>\n",
       "</div>"
      ],
      "text/plain": [
       "           SVM (Training)  SVM (Test)\n",
       "Accuracy         0.946925    0.890000\n",
       "Precision        0.868431    0.937500\n",
       "Recall           0.762258    0.600000\n",
       "F1               0.811888    0.731707\n",
       "ROC AUC          0.982859    0.928267"
      ]
     },
     "execution_count": 125,
     "metadata": {},
     "output_type": "execute_result"
    }
   ],
   "source": [
    "# Calculate the classification metrics\n",
    "svm_classification_metrics = calculate_classification_metrics('SVM', y_train, training_predictions, prediction_probabilities_training, y_test, test_predictions, prediction_probabilities_test)\n",
    "svm_classification_metrics"
   ]
  },
  {
   "cell_type": "code",
   "execution_count": 126,
   "id": "e4707af9",
   "metadata": {},
   "outputs": [
    {
     "data": {
      "text/plain": [
       "<sklearn.metrics._plot.roc_curve.RocCurveDisplay at 0x151d33cd0>"
      ]
     },
     "execution_count": 126,
     "metadata": {},
     "output_type": "execute_result"
    },
    {
     "data": {
      "image/png": "[encoded data removed]",
      "text/plain": [
       "<Figure size 432x288 with 1 Axes>"
      ]
     },
     "metadata": {
      "needs_background": "light"
     },
     "output_type": "display_data"
    }
   ],
   "source": [
    "# Plot the ROC curve\n",
    "RocCurveDisplay.from_estimator(tuned_svm, X_test, y_test)"
   ]
  },
  {
   "cell_type": "markdown",
   "id": "c2223da4",
   "metadata": {},
   "source": [
    "## Gaussian Naive Bayes"
   ]
  },
  {
   "cell_type": "code",
   "execution_count": 156,
   "id": "a4f185e7",
   "metadata": {},
   "outputs": [
    {
     "data": {
      "text/plain": [
       "GaussianNB()"
      ]
     },
     "execution_count": 156,
     "metadata": {},
     "output_type": "execute_result"
    }
   ],
   "source": [
    "# Define the naive bayes model and fit it to the training data\n",
    "naive_bayes_model = GaussianNB()\n",
    "naive_bayes_model.fit(X_train, y_train)"
   ]
  },
  {
   "cell_type": "code",
   "execution_count": 157,
   "id": "ab9c25ef",
   "metadata": {},
   "outputs": [],
   "source": [
    "# Make predictions on training and test data\n",
    "training_predictions = naive_bayes_model.predict(X_train)\n",
    "test_predictions = naive_bayes_model.predict(X_test)\n",
    "prediction_probabilities_training, prediction_probabilities_test = generate_scores(naive_bayes_model, X_train, y_train)"
   ]
  },
  {
   "cell_type": "code",
   "execution_count": 118,
   "id": "640bfc3a",
   "metadata": {},
   "outputs": [
    {
     "data": {
      "image/png": "[encoded data removed]",
      "text/plain": [
       "<Figure size 576x396 with 2 Axes>"
      ]
     },
     "metadata": {},
     "output_type": "display_data"
    }
   ],
   "source": [
    "# Plot the confusion matrix\n",
    "plot_confusion_matrix(y_test, test_predictions)"
   ]
  },
  {
   "cell_type": "code",
   "execution_count": 115,
   "id": "e4848957",
   "metadata": {},
   "outputs": [
    {
     "data": {
      "text/html": [
       "<div>\n",
       "<style scoped>\n",
       "    .dataframe tbody tr th:only-of-type {\n",
       "        vertical-align: middle;\n",
       "    }\n",
       "\n",
       "    .dataframe tbody tr th {\n",
       "        vertical-align: top;\n",
       "    }\n",
       "\n",
       "    .dataframe thead th {\n",
       "        text-align: right;\n",
       "    }\n",
       "</style>\n",
       "<table border=\"1\" class=\"dataframe\">\n",
       "  <thead>\n",
       "    <tr style=\"text-align: right;\">\n",
       "      <th></th>\n",
       "      <th>Naive Bayes (Training)</th>\n",
       "      <th>Naive Bayes (Test)</th>\n",
       "    </tr>\n",
       "  </thead>\n",
       "  <tbody>\n",
       "    <tr>\n",
       "      <th>Accuracy</th>\n",
       "      <td>0.926373</td>\n",
       "      <td>0.870000</td>\n",
       "    </tr>\n",
       "    <tr>\n",
       "      <th>Precision</th>\n",
       "      <td>0.691729</td>\n",
       "      <td>0.750000</td>\n",
       "    </tr>\n",
       "    <tr>\n",
       "      <th>Recall</th>\n",
       "      <td>0.920000</td>\n",
       "      <td>0.720000</td>\n",
       "    </tr>\n",
       "    <tr>\n",
       "      <th>F1</th>\n",
       "      <td>0.789700</td>\n",
       "      <td>0.734694</td>\n",
       "    </tr>\n",
       "    <tr>\n",
       "      <th>ROC AUC</th>\n",
       "      <td>0.980129</td>\n",
       "      <td>0.958933</td>\n",
       "    </tr>\n",
       "  </tbody>\n",
       "</table>\n",
       "</div>"
      ],
      "text/plain": [
       "           Naive Bayes (Training)  Naive Bayes (Test)\n",
       "Accuracy                 0.926373            0.870000\n",
       "Precision                0.691729            0.750000\n",
       "Recall                   0.920000            0.720000\n",
       "F1                       0.789700            0.734694\n",
       "ROC AUC                  0.980129            0.958933"
      ]
     },
     "execution_count": 115,
     "metadata": {},
     "output_type": "execute_result"
    }
   ],
   "source": [
    "# Calculate the classification metrics\n",
    "naive_bayes_classification_metrics = calculate_classification_metrics('Naive Bayes', y_train, training_predictions, prediction_probabilities_training, y_test, test_predictions, prediction_probabilities_test)\n",
    "naive_bayes_classification_metrics"
   ]
  },
  {
   "cell_type": "code",
   "execution_count": 185,
   "id": "156b26b7",
   "metadata": {},
   "outputs": [
    {
     "data": {
      "image/png": "[encoded data removed]",
      "text/plain": [
       "<Figure size 720x720 with 4 Axes>"
      ]
     },
     "metadata": {},
     "output_type": "display_data"
    }
   ],
   "source": [
    "metrics_nb, roc_nb, prc_nb = bin_class_metrics('Naive Bayes', y_test, test_predictions, prediction_probabilities_test, print_out=False, plot_out=True)"
   ]
  },
  {
   "cell_type": "code",
   "execution_count": 132,
   "id": "7c645692",
   "metadata": {},
   "outputs": [
    {
     "data": {
      "text/plain": [
       "<sklearn.metrics._plot.roc_curve.RocCurveDisplay at 0x1518832e0>"
      ]
     },
     "execution_count": 132,
     "metadata": {},
     "output_type": "execute_result"
    },
    {
     "data": {
      "image/png": "[encoded data removed]",
      "text/plain": [
       "<Figure size 432x288 with 1 Axes>"
      ]
     },
     "metadata": {
      "needs_background": "light"
     },
     "output_type": "display_data"
    }
   ],
   "source": [
    "# Plot the ROC curve\n",
    "RocCurveDisplay.from_estimator(naive_bayes_model, X_test, y_test)"
   ]
  },
  {
   "cell_type": "code",
   "execution_count": 122,
   "id": "dd04f8e1",
   "metadata": {},
   "outputs": [
    {
     "data": {
      "image/png": "[encoded data removed]",
      "text/plain": [
       "<Figure size 576x396 with 1 Axes>"
      ]
     },
     "metadata": {},
     "output_type": "display_data"
    },
    {
     "data": {
      "text/plain": [
       "<AxesSubplot:title={'center':'ROC Curves for GaussianNB'}, xlabel='False Positive Rate', ylabel='True Positive Rate'>"
      ]
     },
     "execution_count": 122,
     "metadata": {},
     "output_type": "execute_result"
    }
   ],
   "source": [
    "visualizer = ROCAUC(GaussianNB(), classes=[0, 1], binary=True)\n",
    "\n",
    "visualizer.fit(X_train, y_train)        # Fit the training data to the visualizer\n",
    "visualizer.score(X_test, y_test)        # Evaluate the model on the test data\n",
    "visualizer.show() "
   ]
  },
  {
   "cell_type": "code",
   "execution_count": 133,
   "id": "726ee130",
   "metadata": {},
   "outputs": [
    {
     "data": {
      "text/plain": [
       "<sklearn.metrics._plot.precision_recall_curve.PrecisionRecallDisplay at 0x15353ff70>"
      ]
     },
     "execution_count": 133,
     "metadata": {},
     "output_type": "execute_result"
    },
    {
     "data": {
      "image/png": "[encoded data removed]",
      "text/plain": [
       "<Figure size 432x288 with 1 Axes>"
      ]
     },
     "metadata": {
      "needs_background": "light"
     },
     "output_type": "display_data"
    }
   ],
   "source": [
    "# Plot precision-recall curve\n",
    "PrecisionRecallDisplay.from_estimator(naive_bayes_model, X_test, y_test)"
   ]
  },
  {
   "cell_type": "markdown",
   "id": "9e6ad4f0",
   "metadata": {},
   "source": [
    "# Comparison of Classification Algorithms"
   ]
  },
  {
   "cell_type": "code",
   "execution_count": 134,
   "id": "1f18726e",
   "metadata": {},
   "outputs": [
    {
     "data": {
      "text/html": [
       "<div>\n",
       "<style scoped>\n",
       "    .dataframe tbody tr th:only-of-type {\n",
       "        vertical-align: middle;\n",
       "    }\n",
       "\n",
       "    .dataframe tbody tr th {\n",
       "        vertical-align: top;\n",
       "    }\n",
       "\n",
       "    .dataframe thead th {\n",
       "        text-align: right;\n",
       "    }\n",
       "</style>\n",
       "<table border=\"1\" class=\"dataframe\">\n",
       "  <thead>\n",
       "    <tr style=\"text-align: right;\">\n",
       "      <th></th>\n",
       "      <th>Logistic Regression (Test)</th>\n",
       "      <th>Decision Tree (Test)</th>\n",
       "      <th>Random Forest (Test)</th>\n",
       "      <th>KNN (Test)</th>\n",
       "      <th>SVM (Test)</th>\n",
       "      <th>Naive Bayes (Test)</th>\n",
       "    </tr>\n",
       "  </thead>\n",
       "  <tbody>\n",
       "    <tr>\n",
       "      <th>Accuracy</th>\n",
       "      <td>0.890000</td>\n",
       "      <td>0.890000</td>\n",
       "      <td>0.890000</td>\n",
       "      <td>0.890000</td>\n",
       "      <td>0.890000</td>\n",
       "      <td>0.890000</td>\n",
       "    </tr>\n",
       "    <tr>\n",
       "      <th>Precision</th>\n",
       "      <td>0.850000</td>\n",
       "      <td>0.888889</td>\n",
       "      <td>0.850000</td>\n",
       "      <td>0.937500</td>\n",
       "      <td>0.937500</td>\n",
       "      <td>0.818182</td>\n",
       "    </tr>\n",
       "    <tr>\n",
       "      <th>Recall</th>\n",
       "      <td>0.680000</td>\n",
       "      <td>0.640000</td>\n",
       "      <td>0.680000</td>\n",
       "      <td>0.600000</td>\n",
       "      <td>0.600000</td>\n",
       "      <td>0.720000</td>\n",
       "    </tr>\n",
       "    <tr>\n",
       "      <th>F1</th>\n",
       "      <td>0.755556</td>\n",
       "      <td>0.744186</td>\n",
       "      <td>0.755556</td>\n",
       "      <td>0.731707</td>\n",
       "      <td>0.731707</td>\n",
       "      <td>0.765957</td>\n",
       "    </tr>\n",
       "    <tr>\n",
       "      <th>ROC AUC</th>\n",
       "      <td>0.959467</td>\n",
       "      <td>0.945333</td>\n",
       "      <td>0.955733</td>\n",
       "      <td>0.928267</td>\n",
       "      <td>0.928267</td>\n",
       "      <td>0.959467</td>\n",
       "    </tr>\n",
       "  </tbody>\n",
       "</table>\n",
       "</div>"
      ],
      "text/plain": [
       "           Logistic Regression (Test)  Decision Tree (Test)  \\\n",
       "Accuracy                     0.890000              0.890000   \n",
       "Precision                    0.850000              0.888889   \n",
       "Recall                       0.680000              0.640000   \n",
       "F1                           0.755556              0.744186   \n",
       "ROC AUC                      0.959467              0.945333   \n",
       "\n",
       "           Random Forest (Test)  KNN (Test)  SVM (Test)  Naive Bayes (Test)  \n",
       "Accuracy               0.890000    0.890000    0.890000            0.890000  \n",
       "Precision              0.850000    0.937500    0.937500            0.818182  \n",
       "Recall                 0.680000    0.600000    0.600000            0.720000  \n",
       "F1                     0.755556    0.731707    0.731707            0.765957  \n",
       "ROC AUC                0.955733    0.928267    0.928267            0.959467  "
      ]
     },
     "execution_count": 134,
     "metadata": {},
     "output_type": "execute_result"
    }
   ],
   "source": [
    "classification_metrics = pd.concat([logistic_regression_classification_metrics, decision_tree_classification_metrics, random_forest_classification_metrics, knn_classification_metrics, svm_classification_metrics, naive_bayes_classification_metrics], axis=1)\n",
    "test_metrics = classification_metrics.filter(like=\"(Test)\", axis=1)\n",
    "test_metrics"
   ]
  },
  {
   "cell_type": "code",
   "execution_count": 177,
   "id": "b01f8717",
   "metadata": {},
   "outputs": [
    {
     "data": {
      "text/html": [
       "<div>\n",
       "<style scoped>\n",
       "    .dataframe tbody tr th:only-of-type {\n",
       "        vertical-align: middle;\n",
       "    }\n",
       "\n",
       "    .dataframe tbody tr th {\n",
       "        vertical-align: top;\n",
       "    }\n",
       "\n",
       "    .dataframe thead th {\n",
       "        text-align: right;\n",
       "    }\n",
       "</style>\n",
       "<table border=\"1\" class=\"dataframe\">\n",
       "  <thead>\n",
       "    <tr style=\"text-align: right;\">\n",
       "      <th></th>\n",
       "      <th>Naive Bayes (Test)</th>\n",
       "      <th>Logistic Regression (Test)</th>\n",
       "      <th>Random Forest (Test)</th>\n",
       "    </tr>\n",
       "  </thead>\n",
       "  <tbody>\n",
       "    <tr>\n",
       "      <th>Accuracy</th>\n",
       "      <td>0.870000</td>\n",
       "      <td>0.900000</td>\n",
       "      <td>0.890000</td>\n",
       "    </tr>\n",
       "    <tr>\n",
       "      <th>Precision</th>\n",
       "      <td>0.750000</td>\n",
       "      <td>0.894737</td>\n",
       "      <td>0.850000</td>\n",
       "    </tr>\n",
       "    <tr>\n",
       "      <th>Recall</th>\n",
       "      <td>0.720000</td>\n",
       "      <td>0.680000</td>\n",
       "      <td>0.680000</td>\n",
       "    </tr>\n",
       "    <tr>\n",
       "      <th>F1</th>\n",
       "      <td>0.734694</td>\n",
       "      <td>0.772727</td>\n",
       "      <td>0.755556</td>\n",
       "    </tr>\n",
       "    <tr>\n",
       "      <th>ROC AUC</th>\n",
       "      <td>0.958933</td>\n",
       "      <td>0.959467</td>\n",
       "      <td>0.963733</td>\n",
       "    </tr>\n",
       "  </tbody>\n",
       "</table>\n",
       "</div>"
      ],
      "text/plain": [
       "           Naive Bayes (Test)  Logistic Regression (Test)  \\\n",
       "Accuracy             0.870000                    0.900000   \n",
       "Precision            0.750000                    0.894737   \n",
       "Recall               0.720000                    0.680000   \n",
       "F1                   0.734694                    0.772727   \n",
       "ROC AUC              0.958933                    0.959467   \n",
       "\n",
       "           Random Forest (Test)  \n",
       "Accuracy               0.890000  \n",
       "Precision              0.850000  \n",
       "Recall                 0.680000  \n",
       "F1                     0.755556  \n",
       "ROC AUC                0.963733  "
      ]
     },
     "execution_count": 177,
     "metadata": {},
     "output_type": "execute_result"
    }
   ],
   "source": [
    "classification_metrics = pd.concat([naive_bayes_classification_metrics, logistic_regression_classification_metrics, random_forest_classification_metrics], axis=1)\n",
    "test_metrics = classification_metrics.filter(like=\"(Test)\", axis=1)\n",
    "test_metrics"
   ]
  },
  {
   "cell_type": "code",
   "execution_count": 166,
   "id": "19676059",
   "metadata": {},
   "outputs": [
    {
     "data": {
      "image/png": "[encoded data removed]",
      "text/plain": [
       "<Figure size 720x360 with 1 Axes>"
      ]
     },
     "metadata": {},
     "output_type": "display_data"
    }
   ],
   "source": [
    "fig = plt.figure(figsize=(10,5))\n",
    "plt.plot(roc_nb.FPR, roc_nb.TPR, color='green', lw=1, label= \"Gaussian Naive Bayes\" + ':  %.3f' % metrics_nb.at['ROC AUC', metrics_nb.columns.values.tolist()[0]])\n",
    "plt.plot(roc_lgrb.FPR, roc_lgrb.TPR, color='red', lw=1, label= \"Logistic Regression\" + ':  %.3f' % metrics_log.at['ROC AUC', metrics_log.columns.values.tolist()[0]])\n",
    "plt.plot(roc_rf.FPR, roc_rf.TPR, color='blue', lw=1, label= \"Random Forest\" + ':  %.3f' % metrics_rf.at['ROC AUC', metrics_rf.columns.values.tolist()[0]])\n",
    "plt.plot([0, 1], [0, 1], color='navy', lw=2, linestyle='--')\n",
    "plt.xlim([-0.05, 1.0])\n",
    "plt.ylim([0.0, 1.05])\n",
    "plt.xlabel('False Positive Rate')\n",
    "plt.ylabel('True Positive Rate')\n",
    "plt.legend(loc=\"lower right\", fontsize='small')\n",
    "plt.title('AUC ROC')\n",
    "plt.show()"
   ]
  },
  {
   "cell_type": "code",
   "execution_count": 175,
   "id": "58e704e7",
   "metadata": {},
   "outputs": [
    {
     "data": {
      "image/png": "[encoded data removed]",
      "text/plain": [
       "<Figure size 720x360 with 1 Axes>"
      ]
     },
     "metadata": {},
     "output_type": "display_data"
    }
   ],
   "source": [
    "fig = plt.figure(figsize=(10,5))\n",
    "plt.plot(prc_nb.Recall, prc_nb.Precision, color='green', lw=1, label= metrics_nb.columns.values.tolist()[0])\n",
    "plt.plot(prc_lgrb.Recall, prc_lgrb.Precision, color='red', lw=1, label= metrics_log.columns.values.tolist()[0])\n",
    "plt.plot(prc_rf.Recall, prc_rf.Precision, color='blue', lw=1, label= metrics_rf.columns.values.tolist()[0])\n",
    "plt.xlim([0.0, 1.0])\n",
    "plt.ylim([0.0, 1.05])\n",
    "plt.xlabel('Recall')\n",
    "plt.ylabel('Precision')\n",
    "plt.legend(loc=\"lower left\", fontsize='small')\n",
    "plt.title('Precision Recall Curve')\n",
    "plt.show()"
   ]
  },
  {
   "cell_type": "code",
   "execution_count": 167,
   "id": "657f36c0",
   "metadata": {},
   "outputs": [
    {
     "ename": "ValueError",
     "evalue": "Can only compare identically-labeled Series objects",
     "output_type": "error",
     "traceback": [
      "\u001b[0;31m---------------------------------------------------------------------------\u001b[0m",
      "\u001b[0;31mValueError\u001b[0m                                Traceback (most recent call last)",
      "\u001b[0;32m/var/folders/dy/7cnns26d2j52cnsqr1ms5fpm0000gn/T/ipykernel_17874/2966128169.py\u001b[0m in \u001b[0;36m<module>\u001b[0;34m\u001b[0m\n\u001b[0;32m----> 1\u001b[0;31m \u001b[0mroc_nb\u001b[0m\u001b[0;34m.\u001b[0m\u001b[0mFPR\u001b[0m \u001b[0;34m==\u001b[0m \u001b[0mroc_lgrb\u001b[0m\u001b[0;34m.\u001b[0m\u001b[0mFPR\u001b[0m\u001b[0;34m\u001b[0m\u001b[0;34m\u001b[0m\u001b[0m\n\u001b[0m",
      "\u001b[0;32m~/.pyenv/versions/3.9.1/envs/SLM-Code/lib/python3.9/site-packages/pandas/core/ops/common.py\u001b[0m in \u001b[0;36mnew_method\u001b[0;34m(self, other)\u001b[0m\n\u001b[1;32m     67\u001b[0m         \u001b[0mother\u001b[0m \u001b[0;34m=\u001b[0m \u001b[0mitem_from_zerodim\u001b[0m\u001b[0;34m(\u001b[0m\u001b[0mother\u001b[0m\u001b[0;34m)\u001b[0m\u001b[0;34m\u001b[0m\u001b[0;34m\u001b[0m\u001b[0m\n\u001b[1;32m     68\u001b[0m \u001b[0;34m\u001b[0m\u001b[0m\n\u001b[0;32m---> 69\u001b[0;31m         \u001b[0;32mreturn\u001b[0m \u001b[0mmethod\u001b[0m\u001b[0;34m(\u001b[0m\u001b[0mself\u001b[0m\u001b[0;34m,\u001b[0m \u001b[0mother\u001b[0m\u001b[0;34m)\u001b[0m\u001b[0;34m\u001b[0m\u001b[0;34m\u001b[0m\u001b[0m\n\u001b[0m\u001b[1;32m     70\u001b[0m \u001b[0;34m\u001b[0m\u001b[0m\n\u001b[1;32m     71\u001b[0m     \u001b[0;32mreturn\u001b[0m \u001b[0mnew_method\u001b[0m\u001b[0;34m\u001b[0m\u001b[0;34m\u001b[0m\u001b[0m\n",
      "\u001b[0;32m~/.pyenv/versions/3.9.1/envs/SLM-Code/lib/python3.9/site-packages/pandas/core/arraylike.py\u001b[0m in \u001b[0;36m__eq__\u001b[0;34m(self, other)\u001b[0m\n\u001b[1;32m     30\u001b[0m     \u001b[0;34m@\u001b[0m\u001b[0munpack_zerodim_and_defer\u001b[0m\u001b[0;34m(\u001b[0m\u001b[0;34m\"__eq__\"\u001b[0m\u001b[0;34m)\u001b[0m\u001b[0;34m\u001b[0m\u001b[0;34m\u001b[0m\u001b[0m\n\u001b[1;32m     31\u001b[0m     \u001b[0;32mdef\u001b[0m \u001b[0m__eq__\u001b[0m\u001b[0;34m(\u001b[0m\u001b[0mself\u001b[0m\u001b[0;34m,\u001b[0m \u001b[0mother\u001b[0m\u001b[0;34m)\u001b[0m\u001b[0;34m:\u001b[0m\u001b[0;34m\u001b[0m\u001b[0;34m\u001b[0m\u001b[0m\n\u001b[0;32m---> 32\u001b[0;31m         \u001b[0;32mreturn\u001b[0m \u001b[0mself\u001b[0m\u001b[0;34m.\u001b[0m\u001b[0m_cmp_method\u001b[0m\u001b[0;34m(\u001b[0m\u001b[0mother\u001b[0m\u001b[0;34m,\u001b[0m \u001b[0moperator\u001b[0m\u001b[0;34m.\u001b[0m\u001b[0meq\u001b[0m\u001b[0;34m)\u001b[0m\u001b[0;34m\u001b[0m\u001b[0;34m\u001b[0m\u001b[0m\n\u001b[0m\u001b[1;32m     33\u001b[0m \u001b[0;34m\u001b[0m\u001b[0m\n\u001b[1;32m     34\u001b[0m     \u001b[0;34m@\u001b[0m\u001b[0munpack_zerodim_and_defer\u001b[0m\u001b[0;34m(\u001b[0m\u001b[0;34m\"__ne__\"\u001b[0m\u001b[0;34m)\u001b[0m\u001b[0;34m\u001b[0m\u001b[0;34m\u001b[0m\u001b[0m\n",
      "\u001b[0;32m~/.pyenv/versions/3.9.1/envs/SLM-Code/lib/python3.9/site-packages/pandas/core/series.py\u001b[0m in \u001b[0;36m_cmp_method\u001b[0;34m(self, other, op)\u001b[0m\n\u001b[1;32m   5494\u001b[0m \u001b[0;34m\u001b[0m\u001b[0m\n\u001b[1;32m   5495\u001b[0m         \u001b[0;32mif\u001b[0m \u001b[0misinstance\u001b[0m\u001b[0;34m(\u001b[0m\u001b[0mother\u001b[0m\u001b[0;34m,\u001b[0m \u001b[0mSeries\u001b[0m\u001b[0;34m)\u001b[0m \u001b[0;32mand\u001b[0m \u001b[0;32mnot\u001b[0m \u001b[0mself\u001b[0m\u001b[0;34m.\u001b[0m\u001b[0m_indexed_same\u001b[0m\u001b[0;34m(\u001b[0m\u001b[0mother\u001b[0m\u001b[0;34m)\u001b[0m\u001b[0;34m:\u001b[0m\u001b[0;34m\u001b[0m\u001b[0;34m\u001b[0m\u001b[0m\n\u001b[0;32m-> 5496\u001b[0;31m             \u001b[0;32mraise\u001b[0m \u001b[0mValueError\u001b[0m\u001b[0;34m(\u001b[0m\u001b[0;34m\"Can only compare identically-labeled Series objects\"\u001b[0m\u001b[0;34m)\u001b[0m\u001b[0;34m\u001b[0m\u001b[0;34m\u001b[0m\u001b[0m\n\u001b[0m\u001b[1;32m   5497\u001b[0m \u001b[0;34m\u001b[0m\u001b[0m\n\u001b[1;32m   5498\u001b[0m         \u001b[0mlvalues\u001b[0m \u001b[0;34m=\u001b[0m \u001b[0mself\u001b[0m\u001b[0;34m.\u001b[0m\u001b[0m_values\u001b[0m\u001b[0;34m\u001b[0m\u001b[0;34m\u001b[0m\u001b[0m\n",
      "\u001b[0;31mValueError\u001b[0m: Can only compare identically-labeled Series objects"
     ]
    }
   ],
   "source": [
    "roc_nb.FPR == roc_lgrb.FPR"
   ]
  },
  {
   "cell_type": "code",
   "execution_count": null,
   "id": "f4c00dc5",
   "metadata": {},
   "outputs": [],
   "source": []
  }
 ],
 "metadata": {
  "interpreter": {
   "hash": "370c432e96fa8207a363aa19249434d63375148c4a55e8542936cb07680fb1ca"
  },
  "kernelspec": {
   "display_name": "Python 3.9.1 64-bit ('SLM-Code': pyenv)",
   "name": "python3"
  },
  "language_info": {
   "codemirror_mode": {
    "name": "ipython",
    "version": 3
   },
   "file_extension": ".py",
   "mimetype": "text/x-python",
   "name": "python",
   "nbconvert_exporter": "python",
   "pygments_lexer": "ipython3",
   "version": "3.9.1"
  }
 },
 "nbformat": 4,
 "nbformat_minor": 5
}
